{
 "cells": [
  {
   "cell_type": "code",
   "execution_count": 1,
   "id": "62ebee80",
   "metadata": {},
   "outputs": [],
   "source": [
    "import pandas as pd  \n",
    "import matplotlib.pyplot as plt"
   ]
  },
  {
   "cell_type": "code",
   "execution_count": 2,
   "id": "877dd8be",
   "metadata": {},
   "outputs": [
    {
     "data": {
      "text/html": [
       "<div>\n",
       "<style scoped>\n",
       "    .dataframe tbody tr th:only-of-type {\n",
       "        vertical-align: middle;\n",
       "    }\n",
       "\n",
       "    .dataframe tbody tr th {\n",
       "        vertical-align: top;\n",
       "    }\n",
       "\n",
       "    .dataframe thead th {\n",
       "        text-align: right;\n",
       "    }\n",
       "</style>\n",
       "<table border=\"1\" class=\"dataframe\">\n",
       "  <thead>\n",
       "    <tr style=\"text-align: right;\">\n",
       "      <th></th>\n",
       "      <th>Date</th>\n",
       "      <th>Open</th>\n",
       "      <th>High</th>\n",
       "      <th>Low</th>\n",
       "      <th>Close</th>\n",
       "      <th>Adj Close</th>\n",
       "      <th>Volume</th>\n",
       "      <th>Dividends</th>\n",
       "      <th>Stock Splits</th>\n",
       "    </tr>\n",
       "  </thead>\n",
       "  <tbody>\n",
       "    <tr>\n",
       "      <th>0</th>\n",
       "      <td>2015-01-02 00:00:00-05:00</td>\n",
       "      <td>27.847500</td>\n",
       "      <td>27.860001</td>\n",
       "      <td>26.837500</td>\n",
       "      <td>27.332500</td>\n",
       "      <td>24.320435</td>\n",
       "      <td>212818400</td>\n",
       "      <td>0.0</td>\n",
       "      <td>0.0</td>\n",
       "    </tr>\n",
       "    <tr>\n",
       "      <th>1</th>\n",
       "      <td>2015-01-05 00:00:00-05:00</td>\n",
       "      <td>27.072500</td>\n",
       "      <td>27.162500</td>\n",
       "      <td>26.352501</td>\n",
       "      <td>26.562500</td>\n",
       "      <td>23.635286</td>\n",
       "      <td>257142000</td>\n",
       "      <td>0.0</td>\n",
       "      <td>0.0</td>\n",
       "    </tr>\n",
       "    <tr>\n",
       "      <th>2</th>\n",
       "      <td>2015-01-06 00:00:00-05:00</td>\n",
       "      <td>26.635000</td>\n",
       "      <td>26.857500</td>\n",
       "      <td>26.157499</td>\n",
       "      <td>26.565001</td>\n",
       "      <td>23.637506</td>\n",
       "      <td>263188400</td>\n",
       "      <td>0.0</td>\n",
       "      <td>0.0</td>\n",
       "    </tr>\n",
       "    <tr>\n",
       "      <th>3</th>\n",
       "      <td>2015-01-07 00:00:00-05:00</td>\n",
       "      <td>26.799999</td>\n",
       "      <td>27.049999</td>\n",
       "      <td>26.674999</td>\n",
       "      <td>26.937500</td>\n",
       "      <td>23.968960</td>\n",
       "      <td>160423600</td>\n",
       "      <td>0.0</td>\n",
       "      <td>0.0</td>\n",
       "    </tr>\n",
       "    <tr>\n",
       "      <th>4</th>\n",
       "      <td>2015-01-08 00:00:00-05:00</td>\n",
       "      <td>27.307501</td>\n",
       "      <td>28.037500</td>\n",
       "      <td>27.174999</td>\n",
       "      <td>27.972500</td>\n",
       "      <td>24.889904</td>\n",
       "      <td>237458000</td>\n",
       "      <td>0.0</td>\n",
       "      <td>0.0</td>\n",
       "    </tr>\n",
       "  </tbody>\n",
       "</table>\n",
       "</div>"
      ],
      "text/plain": [
       "                        Date       Open       High        Low      Close  \\\n",
       "0  2015-01-02 00:00:00-05:00  27.847500  27.860001  26.837500  27.332500   \n",
       "1  2015-01-05 00:00:00-05:00  27.072500  27.162500  26.352501  26.562500   \n",
       "2  2015-01-06 00:00:00-05:00  26.635000  26.857500  26.157499  26.565001   \n",
       "3  2015-01-07 00:00:00-05:00  26.799999  27.049999  26.674999  26.937500   \n",
       "4  2015-01-08 00:00:00-05:00  27.307501  28.037500  27.174999  27.972500   \n",
       "\n",
       "   Adj Close     Volume  Dividends  Stock Splits  \n",
       "0  24.320435  212818400        0.0           0.0  \n",
       "1  23.635286  257142000        0.0           0.0  \n",
       "2  23.637506  263188400        0.0           0.0  \n",
       "3  23.968960  160423600        0.0           0.0  \n",
       "4  24.889904  237458000        0.0           0.0  "
      ]
     },
     "execution_count": 2,
     "metadata": {},
     "output_type": "execute_result"
    }
   ],
   "source": [
    "df = pd.read_csv(\"Apple_data.csv\")  \n",
    "df.head()"
   ]
  },
  {
   "cell_type": "code",
   "execution_count": 3,
   "id": "d38c12f3",
   "metadata": {},
   "outputs": [],
   "source": [
    "# Convert 'Date' column to datetime and set it as index\n",
    "df['Date'] = pd.to_datetime(df['Date'])\n",
    "df.set_index('Date', inplace=True)"
   ]
  },
  {
   "cell_type": "code",
   "execution_count": 4,
   "id": "146fae0a",
   "metadata": {},
   "outputs": [],
   "source": [
    "data = df[['Close']]"
   ]
  },
  {
   "cell_type": "code",
   "execution_count": 5,
   "id": "3f315fd8",
   "metadata": {},
   "outputs": [
    {
     "name": "stdout",
     "output_type": "stream",
     "text": [
      "Train shape: (2012, 1)\n",
      "Test shape: (504, 1)\n"
     ]
    }
   ],
   "source": [
    "split_index = int(len(data) * 0.8)\n",
    "train = data.iloc[:split_index]\n",
    "test = data.iloc[split_index:]\n",
    "print(\"Train shape:\", train.shape)\n",
    "print(\"Test shape:\", test.shape)"
   ]
  },
  {
   "cell_type": "code",
   "execution_count": 6,
   "id": "f180beb6",
   "metadata": {},
   "outputs": [
    {
     "name": "stdout",
     "output_type": "stream",
     "text": [
      "ADF Statistic: -0.7221179864347376\n",
      "p-value: 0.8409370017466231\n",
      "Critical Value (1%): -3.4336386745240652\n",
      "Critical Value (5%): -2.8629927557359443\n",
      "Critical Value (10%): -2.5675433856598793\n"
     ]
    }
   ],
   "source": [
    "from statsmodels.tsa.stattools import adfuller\n",
    "\n",
    "# Run ADF test on training data\n",
    "result = adfuller(train['Close'])\n",
    "\n",
    "print(\"ADF Statistic:\", result[0])\n",
    "print(\"p-value:\", result[1])\n",
    "for key, value in result[4].items():\n",
    "    print(f\"Critical Value ({key}): {value}\")"
   ]
  },
  {
   "cell_type": "code",
   "execution_count": 7,
   "id": "ec38c508",
   "metadata": {},
   "outputs": [
    {
     "name": "stdout",
     "output_type": "stream",
     "text": [
      "ADF Statistic (differenced): -9.119995028094099\n",
      "p-value: 3.224527732398468e-15\n",
      "Critical Value (1%): -3.4336386745240652\n",
      "Critical Value (5%): -2.8629927557359443\n",
      "Critical Value (10%): -2.5675433856598793\n"
     ]
    }
   ],
   "source": [
    "# First-order differencing\n",
    "train_diff = train['Close'].diff().dropna()\n",
    "\n",
    "# ADF test on differenced data\n",
    "result_diff = adfuller(train_diff)\n",
    "\n",
    "print(\"ADF Statistic (differenced):\", result_diff[0])\n",
    "print(\"p-value:\", result_diff[1])\n",
    "for key, value in result_diff[4].items():\n",
    "    print(f\"Critical Value ({key}): {value}\")"
   ]
  },
  {
   "cell_type": "code",
   "execution_count": 15,
   "id": "1fca6e16",
   "metadata": {},
   "outputs": [
    {
     "name": "stderr",
     "output_type": "stream",
     "text": [
      "/Users/admin/anaconda3/lib/python3.11/site-packages/statsmodels/tsa/base/tsa_model.py:473: ValueWarning: An unsupported index was provided and will be ignored when e.g. forecasting.\n",
      "  self._init_dates(dates, freq)\n",
      "/Users/admin/anaconda3/lib/python3.11/site-packages/statsmodels/tsa/base/tsa_model.py:473: ValueWarning: An unsupported index was provided and will be ignored when e.g. forecasting.\n",
      "  self._init_dates(dates, freq)\n",
      "/Users/admin/anaconda3/lib/python3.11/site-packages/statsmodels/tsa/base/tsa_model.py:473: ValueWarning: An unsupported index was provided and will be ignored when e.g. forecasting.\n",
      "  self._init_dates(dates, freq)\n"
     ]
    }
   ],
   "source": [
    "from statsmodels.tsa.arima.model import ARIMA\n",
    "\n",
    "model = ARIMA(train['Close'], order=(2, 1, 2)) \n",
    "model_fit = model.fit()"
   ]
  },
  {
   "cell_type": "code",
   "execution_count": 16,
   "id": "aa2296ae",
   "metadata": {},
   "outputs": [
    {
     "name": "stdout",
     "output_type": "stream",
     "text": [
      "                               SARIMAX Results                                \n",
      "==============================================================================\n",
      "Dep. Variable:                  Close   No. Observations:                 2012\n",
      "Model:                 ARIMA(2, 1, 2)   Log Likelihood               -4005.944\n",
      "Date:                Wed, 26 Mar 2025   AIC                           8021.888\n",
      "Time:                        23:22:43   BIC                           8049.920\n",
      "Sample:                             0   HQIC                          8032.178\n",
      "                               - 2012                                         \n",
      "Covariance Type:                  opg                                         \n",
      "==============================================================================\n",
      "                 coef    std err          z      P>|z|      [0.025      0.975]\n",
      "------------------------------------------------------------------------------\n",
      "ar.L1          0.9571      0.101      9.484      0.000       0.759       1.155\n",
      "ar.L2         -0.7718      0.073    -10.564      0.000      -0.915      -0.629\n",
      "ma.L1         -0.9964      0.103     -9.695      0.000      -1.198      -0.795\n",
      "ma.L2          0.7684      0.077      9.921      0.000       0.617       0.920\n",
      "sigma2         3.1461      0.047     66.883      0.000       3.054       3.238\n",
      "===================================================================================\n",
      "Ljung-Box (L1) (Q):                   0.72   Jarque-Bera (JB):              4448.78\n",
      "Prob(Q):                              0.40   Prob(JB):                         0.00\n",
      "Heteroskedasticity (H):              42.30   Skew:                            -0.03\n",
      "Prob(H) (two-sided):                  0.00   Kurtosis:                        10.29\n",
      "===================================================================================\n",
      "\n",
      "Warnings:\n",
      "[1] Covariance matrix calculated using the outer product of gradients (complex-step).\n"
     ]
    }
   ],
   "source": [
    "print(model_fit.summary())"
   ]
  },
  {
   "cell_type": "code",
   "execution_count": 17,
   "id": "1f29027b",
   "metadata": {},
   "outputs": [
    {
     "name": "stderr",
     "output_type": "stream",
     "text": [
      "/Users/admin/anaconda3/lib/python3.11/site-packages/statsmodels/tsa/base/tsa_model.py:836: ValueWarning: No supported index is available. Prediction results will be given with an integer index beginning at `start`.\n",
      "  return get_prediction_index(\n",
      "/Users/admin/anaconda3/lib/python3.11/site-packages/statsmodels/tsa/base/tsa_model.py:836: FutureWarning: No supported index is available. In the next version, calling this method in a model without a supported index will result in an exception.\n",
      "  return get_prediction_index(\n"
     ]
    },
    {
     "name": "stdout",
     "output_type": "stream",
     "text": [
      "MAE: 63.532043204698915\n",
      "RMSE: 69.4338925280293\n"
     ]
    }
   ],
   "source": [
    "forecast = model_fit.forecast(steps=len(test))\n",
    "forecast.index = test.index\n",
    "\n",
    "from sklearn.metrics import mean_absolute_error, mean_squared_error\n",
    "import numpy as np\n",
    "\n",
    "mae = mean_absolute_error(test['Close'], forecast)\n",
    "rmse = np.sqrt(mean_squared_error(test['Close'], forecast))\n",
    "\n",
    "print(\"MAE:\", mae)\n",
    "print(\"RMSE:\", rmse)"
   ]
  },
  {
   "cell_type": "code",
   "execution_count": null,
   "id": "d43f34d0",
   "metadata": {},
   "outputs": [],
   "source": []
  }
 ],
 "metadata": {
  "kernelspec": {
   "display_name": "Python 3 (ipykernel)",
   "language": "python",
   "name": "python3"
  },
  "language_info": {
   "codemirror_mode": {
    "name": "ipython",
    "version": 3
   },
   "file_extension": ".py",
   "mimetype": "text/x-python",
   "name": "python",
   "nbconvert_exporter": "python",
   "pygments_lexer": "ipython3",
   "version": "3.11.5"
  }
 },
 "nbformat": 4,
 "nbformat_minor": 5
}
