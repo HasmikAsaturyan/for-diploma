{
 "cells": [
  {
   "cell_type": "code",
   "execution_count": 1,
   "id": "a4a81a3e",
   "metadata": {},
   "outputs": [],
   "source": [
    "import yfinance as yf"
   ]
  },
  {
   "cell_type": "code",
   "execution_count": 2,
   "id": "b1e56f3b",
   "metadata": {},
   "outputs": [],
   "source": [
    "# !pip install tensorflow"
   ]
  },
  {
   "cell_type": "code",
   "execution_count": 3,
   "id": "e5aa28bb",
   "metadata": {},
   "outputs": [],
   "source": [
    "stock = yf.Ticker(\"AAPL\") \n",
    "data = stock.history(start=\"2015-01-01\", end=\"2025-01-01\", auto_adjust=False) \n"
   ]
  },
  {
   "cell_type": "code",
   "execution_count": 4,
   "id": "8c57eb64",
   "metadata": {},
   "outputs": [
    {
     "data": {
      "text/html": [
       "<div>\n",
       "<style scoped>\n",
       "    .dataframe tbody tr th:only-of-type {\n",
       "        vertical-align: middle;\n",
       "    }\n",
       "\n",
       "    .dataframe tbody tr th {\n",
       "        vertical-align: top;\n",
       "    }\n",
       "\n",
       "    .dataframe thead th {\n",
       "        text-align: right;\n",
       "    }\n",
       "</style>\n",
       "<table border=\"1\" class=\"dataframe\">\n",
       "  <thead>\n",
       "    <tr style=\"text-align: right;\">\n",
       "      <th></th>\n",
       "      <th>Open</th>\n",
       "      <th>High</th>\n",
       "      <th>Low</th>\n",
       "      <th>Close</th>\n",
       "      <th>Adj Close</th>\n",
       "      <th>Volume</th>\n",
       "      <th>Dividends</th>\n",
       "      <th>Stock Splits</th>\n",
       "    </tr>\n",
       "    <tr>\n",
       "      <th>Date</th>\n",
       "      <th></th>\n",
       "      <th></th>\n",
       "      <th></th>\n",
       "      <th></th>\n",
       "      <th></th>\n",
       "      <th></th>\n",
       "      <th></th>\n",
       "      <th></th>\n",
       "    </tr>\n",
       "  </thead>\n",
       "  <tbody>\n",
       "    <tr>\n",
       "      <th>2015-01-02 00:00:00-05:00</th>\n",
       "      <td>27.847500</td>\n",
       "      <td>27.860001</td>\n",
       "      <td>26.837500</td>\n",
       "      <td>27.332500</td>\n",
       "      <td>24.320433</td>\n",
       "      <td>212818400</td>\n",
       "      <td>0.0</td>\n",
       "      <td>0.0</td>\n",
       "    </tr>\n",
       "    <tr>\n",
       "      <th>2015-01-05 00:00:00-05:00</th>\n",
       "      <td>27.072500</td>\n",
       "      <td>27.162500</td>\n",
       "      <td>26.352501</td>\n",
       "      <td>26.562500</td>\n",
       "      <td>23.635283</td>\n",
       "      <td>257142000</td>\n",
       "      <td>0.0</td>\n",
       "      <td>0.0</td>\n",
       "    </tr>\n",
       "    <tr>\n",
       "      <th>2015-01-06 00:00:00-05:00</th>\n",
       "      <td>26.635000</td>\n",
       "      <td>26.857500</td>\n",
       "      <td>26.157499</td>\n",
       "      <td>26.565001</td>\n",
       "      <td>23.637505</td>\n",
       "      <td>263188400</td>\n",
       "      <td>0.0</td>\n",
       "      <td>0.0</td>\n",
       "    </tr>\n",
       "    <tr>\n",
       "      <th>2015-01-07 00:00:00-05:00</th>\n",
       "      <td>26.799999</td>\n",
       "      <td>27.049999</td>\n",
       "      <td>26.674999</td>\n",
       "      <td>26.937500</td>\n",
       "      <td>23.968962</td>\n",
       "      <td>160423600</td>\n",
       "      <td>0.0</td>\n",
       "      <td>0.0</td>\n",
       "    </tr>\n",
       "    <tr>\n",
       "      <th>2015-01-08 00:00:00-05:00</th>\n",
       "      <td>27.307501</td>\n",
       "      <td>28.037500</td>\n",
       "      <td>27.174999</td>\n",
       "      <td>27.972500</td>\n",
       "      <td>24.889904</td>\n",
       "      <td>237458000</td>\n",
       "      <td>0.0</td>\n",
       "      <td>0.0</td>\n",
       "    </tr>\n",
       "  </tbody>\n",
       "</table>\n",
       "</div>"
      ],
      "text/plain": [
       "                                Open       High        Low      Close  \\\n",
       "Date                                                                    \n",
       "2015-01-02 00:00:00-05:00  27.847500  27.860001  26.837500  27.332500   \n",
       "2015-01-05 00:00:00-05:00  27.072500  27.162500  26.352501  26.562500   \n",
       "2015-01-06 00:00:00-05:00  26.635000  26.857500  26.157499  26.565001   \n",
       "2015-01-07 00:00:00-05:00  26.799999  27.049999  26.674999  26.937500   \n",
       "2015-01-08 00:00:00-05:00  27.307501  28.037500  27.174999  27.972500   \n",
       "\n",
       "                           Adj Close     Volume  Dividends  Stock Splits  \n",
       "Date                                                                      \n",
       "2015-01-02 00:00:00-05:00  24.320433  212818400        0.0           0.0  \n",
       "2015-01-05 00:00:00-05:00  23.635283  257142000        0.0           0.0  \n",
       "2015-01-06 00:00:00-05:00  23.637505  263188400        0.0           0.0  \n",
       "2015-01-07 00:00:00-05:00  23.968962  160423600        0.0           0.0  \n",
       "2015-01-08 00:00:00-05:00  24.889904  237458000        0.0           0.0  "
      ]
     },
     "execution_count": 4,
     "metadata": {},
     "output_type": "execute_result"
    }
   ],
   "source": [
    "data.head()"
   ]
  },
  {
   "cell_type": "code",
   "execution_count": 5,
   "id": "ff014a8f",
   "metadata": {},
   "outputs": [
    {
     "data": {
      "text/plain": [
       "(2516, 8)"
      ]
     },
     "execution_count": 5,
     "metadata": {},
     "output_type": "execute_result"
    }
   ],
   "source": [
    "data.shape"
   ]
  },
  {
   "cell_type": "code",
   "execution_count": 6,
   "id": "c82e39a6",
   "metadata": {},
   "outputs": [
    {
     "name": "stdout",
     "output_type": "stream",
     "text": [
      "Open            0\n",
      "High            0\n",
      "Low             0\n",
      "Close           0\n",
      "Adj Close       0\n",
      "Volume          0\n",
      "Dividends       0\n",
      "Stock Splits    0\n",
      "dtype: int64\n"
     ]
    }
   ],
   "source": [
    "print(data.isnull().sum())\n"
   ]
  },
  {
   "cell_type": "code",
   "execution_count": 7,
   "id": "ff992f2b",
   "metadata": {},
   "outputs": [],
   "source": [
    "df1 = data.reset_index()['Close']\n"
   ]
  },
  {
   "cell_type": "code",
   "execution_count": 8,
   "id": "9c69f546",
   "metadata": {},
   "outputs": [
    {
     "data": {
      "text/plain": [
       "0        27.332500\n",
       "1        26.562500\n",
       "2        26.565001\n",
       "3        26.937500\n",
       "4        27.972500\n",
       "           ...    \n",
       "2511    258.200012\n",
       "2512    259.019989\n",
       "2513    255.589996\n",
       "2514    252.199997\n",
       "2515    250.419998\n",
       "Name: Close, Length: 2516, dtype: float64"
      ]
     },
     "execution_count": 8,
     "metadata": {},
     "output_type": "execute_result"
    }
   ],
   "source": [
    "df1"
   ]
  },
  {
   "cell_type": "code",
   "execution_count": 9,
   "id": "0693f63c",
   "metadata": {},
   "outputs": [
    {
     "data": {
      "text/plain": [
       "[<matplotlib.lines.Line2D at 0x11e0b7f90>]"
      ]
     },
     "execution_count": 9,
     "metadata": {},
     "output_type": "execute_result"
    },
    {
     "data": {
      "image/png": "[encoded data removed]",
      "text/plain": [
       "<Figure size 640x480 with 1 Axes>"
      ]
     },
     "metadata": {},
     "output_type": "display_data"
    }
   ],
   "source": [
    "import matplotlib.pyplot as plt\n",
    "plt.plot(df1)"
   ]
  },
  {
   "cell_type": "code",
   "execution_count": 10,
   "id": "c9915c67",
   "metadata": {},
   "outputs": [],
   "source": [
    "import numpy as np"
   ]
  },
  {
   "cell_type": "code",
   "execution_count": 11,
   "id": "76dde07f",
   "metadata": {},
   "outputs": [],
   "source": [
    "from sklearn.preprocessing import MinMaxScaler\n",
    "scaler = MinMaxScaler(feature_range=(0,1))\n",
    "df1 = scaler.fit_transform(np.array(df1).reshape(-1,1))"
   ]
  },
  {
   "cell_type": "code",
   "execution_count": 12,
   "id": "68f42aba",
   "metadata": {},
   "outputs": [
    {
     "name": "stdout",
     "output_type": "stream",
     "text": [
      "[[0.02007952]\n",
      " [0.01682281]\n",
      " [0.01683339]\n",
      " ...\n",
      " [0.98549287]\n",
      " [0.9711549 ]\n",
      " [0.9636264 ]]\n"
     ]
    }
   ],
   "source": [
    "print(df1)"
   ]
  },
  {
   "cell_type": "code",
   "execution_count": 13,
   "id": "86da83e7",
   "metadata": {},
   "outputs": [],
   "source": [
    "##splitting dataset into train and test split\n",
    "training_size = int(len(df1)*0.8)\n",
    "test_size = len(df1)-training_size\n",
    "train_data,test_data=df1[0:training_size,:],df1[training_size:len(df1),:1]"
   ]
  },
  {
   "cell_type": "code",
   "execution_count": 14,
   "id": "75429837",
   "metadata": {},
   "outputs": [
    {
     "data": {
      "text/plain": [
       "(2012, 504)"
      ]
     },
     "execution_count": 14,
     "metadata": {},
     "output_type": "execute_result"
    }
   ],
   "source": [
    "training_size, test_size"
   ]
  },
  {
   "cell_type": "code",
   "execution_count": 15,
   "id": "2774fc8c",
   "metadata": {},
   "outputs": [],
   "source": [
    "def create_dataset(dataset, time_step=1):\n",
    "\tdataX, dataY = [], []\n",
    "\tfor i in range(len(dataset)-time_step-1):\n",
    "\t\ta = dataset[i:(i+time_step), 0]   \n",
    "\t\tdataX.append(a)\n",
    "\t\tdataY.append(dataset[i + time_step, 0])\n",
    "\treturn np.array(dataX), np.array(dataY)"
   ]
  },
  {
   "cell_type": "code",
   "execution_count": 16,
   "id": "6f86835d",
   "metadata": {},
   "outputs": [],
   "source": [
    "time_step = 100\n",
    "X_train, y_train = create_dataset(train_data, time_step)\n",
    "X_test, ytest = create_dataset(test_data, time_step)"
   ]
  },
  {
   "cell_type": "code",
   "execution_count": 17,
   "id": "6eed0d09",
   "metadata": {},
   "outputs": [
    {
     "name": "stdout",
     "output_type": "stream",
     "text": [
      "(1911, 100)\n",
      "(1911,)\n"
     ]
    },
    {
     "data": {
      "text/plain": [
       "(None, None)"
      ]
     },
     "execution_count": 17,
     "metadata": {},
     "output_type": "execute_result"
    }
   ],
   "source": [
    "print(X_train.shape), print(y_train.shape)"
   ]
  },
  {
   "cell_type": "code",
   "execution_count": 18,
   "id": "48c5951e",
   "metadata": {},
   "outputs": [],
   "source": [
    "# reshape input to be [samples, time steps, features] which is required for LSTM\n",
    "X_train = X_train.reshape(X_train.shape[0], X_train.shape[1] , 1)\n",
    "X_test = X_test.reshape(X_test.shape[0], X_test.shape[1] , 1)"
   ]
  },
  {
   "cell_type": "code",
   "execution_count": 24,
   "id": "e6ebc138",
   "metadata": {},
   "outputs": [],
   "source": [
    "from tensorflow.keras.models import Sequential\n",
    "from tensorflow.keras.layers import Dense\n",
    "from tensorflow.keras.layers import LSTM, Input"
   ]
  },
  {
   "cell_type": "code",
   "execution_count": 25,
   "id": "5d558ef9",
   "metadata": {},
   "outputs": [
    {
     "name": "stdout",
     "output_type": "stream",
     "text": [
      "2.18.0\n"
     ]
    }
   ],
   "source": [
    "import tensorflow as tf\n",
    "print(tf.__version__)"
   ]
  },
  {
   "cell_type": "code",
   "execution_count": 21,
   "id": "fe1c48f3",
   "metadata": {},
   "outputs": [],
   "source": [
    "# pip install numpy==1.19.5"
   ]
  },
  {
   "cell_type": "code",
   "execution_count": 28,
   "id": "82a05085",
   "metadata": {},
   "outputs": [],
   "source": [
    "model = Sequential()\n",
    "# Add an Input layer to explicitly define the input shape\n",
    "model.add(Input(shape=(100, 1)))  # Input shape: (time_steps, features)\n",
    "\n",
    "# Add LSTM layers\n",
    "model.add(LSTM(50, return_sequences=True))\n",
    "model.add(LSTM(50, return_sequences=True))\n",
    "model.add(LSTM(50))\n",
    "model.add(Dense(1))\n",
    "\n",
    "# Compile the model\n",
    "model.compile(loss='mean_squared_error', optimizer='Adam')"
   ]
  },
  {
   "cell_type": "code",
   "execution_count": 30,
   "id": "3c4d88bc",
   "metadata": {},
   "outputs": [
    {
     "data": {
      "text/html": [
       "<pre style=\"white-space:pre;overflow-x:auto;line-height:normal;font-family:Menlo,'DejaVu Sans Mono',consolas,'Courier New',monospace\"><span style=\"font-weight: bold\">Model: \"sequential_3\"</span>\n",
       "</pre>\n"
      ],
      "text/plain": [
       "\u001b[1mModel: \"sequential_3\"\u001b[0m\n"
      ]
     },
     "metadata": {},
     "output_type": "display_data"
    },
    {
     "data": {
      "text/html": [
       "<pre style=\"white-space:pre;overflow-x:auto;line-height:normal;font-family:Menlo,'DejaVu Sans Mono',consolas,'Courier New',monospace\">┏━━━━━━━━━━━━━━━━━━━━━━━━━━━━━━━━━┳━━━━━━━━━━━━━━━━━━━━━━━━┳━━━━━━━━━━━━━━━┓\n",
       "┃<span style=\"font-weight: bold\"> Layer (type)                    </span>┃<span style=\"font-weight: bold\"> Output Shape           </span>┃<span style=\"font-weight: bold\">       Param # </span>┃\n",
       "┡━━━━━━━━━━━━━━━━━━━━━━━━━━━━━━━━━╇━━━━━━━━━━━━━━━━━━━━━━━━╇━━━━━━━━━━━━━━━┩\n",
       "│ lstm_6 (<span style=\"color: #0087ff; text-decoration-color: #0087ff\">LSTM</span>)                   │ (<span style=\"color: #00d7ff; text-decoration-color: #00d7ff\">None</span>, <span style=\"color: #00af00; text-decoration-color: #00af00\">100</span>, <span style=\"color: #00af00; text-decoration-color: #00af00\">50</span>)        │        <span style=\"color: #00af00; text-decoration-color: #00af00\">10,400</span> │\n",
       "├─────────────────────────────────┼────────────────────────┼───────────────┤\n",
       "│ lstm_7 (<span style=\"color: #0087ff; text-decoration-color: #0087ff\">LSTM</span>)                   │ (<span style=\"color: #00d7ff; text-decoration-color: #00d7ff\">None</span>, <span style=\"color: #00af00; text-decoration-color: #00af00\">100</span>, <span style=\"color: #00af00; text-decoration-color: #00af00\">50</span>)        │        <span style=\"color: #00af00; text-decoration-color: #00af00\">20,200</span> │\n",
       "├─────────────────────────────────┼────────────────────────┼───────────────┤\n",
       "│ lstm_8 (<span style=\"color: #0087ff; text-decoration-color: #0087ff\">LSTM</span>)                   │ (<span style=\"color: #00d7ff; text-decoration-color: #00d7ff\">None</span>, <span style=\"color: #00af00; text-decoration-color: #00af00\">50</span>)             │        <span style=\"color: #00af00; text-decoration-color: #00af00\">20,200</span> │\n",
       "├─────────────────────────────────┼────────────────────────┼───────────────┤\n",
       "│ dense_2 (<span style=\"color: #0087ff; text-decoration-color: #0087ff\">Dense</span>)                 │ (<span style=\"color: #00d7ff; text-decoration-color: #00d7ff\">None</span>, <span style=\"color: #00af00; text-decoration-color: #00af00\">1</span>)              │            <span style=\"color: #00af00; text-decoration-color: #00af00\">51</span> │\n",
       "└─────────────────────────────────┴────────────────────────┴───────────────┘\n",
       "</pre>\n"
      ],
      "text/plain": [
       "┏━━━━━━━━━━━━━━━━━━━━━━━━━━━━━━━━━┳━━━━━━━━━━━━━━━━━━━━━━━━┳━━━━━━━━━━━━━━━┓\n",
       "┃\u001b[1m \u001b[0m\u001b[1mLayer (type)                   \u001b[0m\u001b[1m \u001b[0m┃\u001b[1m \u001b[0m\u001b[1mOutput Shape          \u001b[0m\u001b[1m \u001b[0m┃\u001b[1m \u001b[0m\u001b[1m      Param #\u001b[0m\u001b[1m \u001b[0m┃\n",
       "┡━━━━━━━━━━━━━━━━━━━━━━━━━━━━━━━━━╇━━━━━━━━━━━━━━━━━━━━━━━━╇━━━━━━━━━━━━━━━┩\n",
       "│ lstm_6 (\u001b[38;5;33mLSTM\u001b[0m)                   │ (\u001b[38;5;45mNone\u001b[0m, \u001b[38;5;34m100\u001b[0m, \u001b[38;5;34m50\u001b[0m)        │        \u001b[38;5;34m10,400\u001b[0m │\n",
       "├─────────────────────────────────┼────────────────────────┼───────────────┤\n",
       "│ lstm_7 (\u001b[38;5;33mLSTM\u001b[0m)                   │ (\u001b[38;5;45mNone\u001b[0m, \u001b[38;5;34m100\u001b[0m, \u001b[38;5;34m50\u001b[0m)        │        \u001b[38;5;34m20,200\u001b[0m │\n",
       "├─────────────────────────────────┼────────────────────────┼───────────────┤\n",
       "│ lstm_8 (\u001b[38;5;33mLSTM\u001b[0m)                   │ (\u001b[38;5;45mNone\u001b[0m, \u001b[38;5;34m50\u001b[0m)             │        \u001b[38;5;34m20,200\u001b[0m │\n",
       "├─────────────────────────────────┼────────────────────────┼───────────────┤\n",
       "│ dense_2 (\u001b[38;5;33mDense\u001b[0m)                 │ (\u001b[38;5;45mNone\u001b[0m, \u001b[38;5;34m1\u001b[0m)              │            \u001b[38;5;34m51\u001b[0m │\n",
       "└─────────────────────────────────┴────────────────────────┴───────────────┘\n"
      ]
     },
     "metadata": {},
     "output_type": "display_data"
    },
    {
     "data": {
      "text/html": [
       "<pre style=\"white-space:pre;overflow-x:auto;line-height:normal;font-family:Menlo,'DejaVu Sans Mono',consolas,'Courier New',monospace\"><span style=\"font-weight: bold\"> Total params: </span><span style=\"color: #00af00; text-decoration-color: #00af00\">50,851</span> (198.64 KB)\n",
       "</pre>\n"
      ],
      "text/plain": [
       "\u001b[1m Total params: \u001b[0m\u001b[38;5;34m50,851\u001b[0m (198.64 KB)\n"
      ]
     },
     "metadata": {},
     "output_type": "display_data"
    },
    {
     "data": {
      "text/html": [
       "<pre style=\"white-space:pre;overflow-x:auto;line-height:normal;font-family:Menlo,'DejaVu Sans Mono',consolas,'Courier New',monospace\"><span style=\"font-weight: bold\"> Trainable params: </span><span style=\"color: #00af00; text-decoration-color: #00af00\">50,851</span> (198.64 KB)\n",
       "</pre>\n"
      ],
      "text/plain": [
       "\u001b[1m Trainable params: \u001b[0m\u001b[38;5;34m50,851\u001b[0m (198.64 KB)\n"
      ]
     },
     "metadata": {},
     "output_type": "display_data"
    },
    {
     "data": {
      "text/html": [
       "<pre style=\"white-space:pre;overflow-x:auto;line-height:normal;font-family:Menlo,'DejaVu Sans Mono',consolas,'Courier New',monospace\"><span style=\"font-weight: bold\"> Non-trainable params: </span><span style=\"color: #00af00; text-decoration-color: #00af00\">0</span> (0.00 B)\n",
       "</pre>\n"
      ],
      "text/plain": [
       "\u001b[1m Non-trainable params: \u001b[0m\u001b[38;5;34m0\u001b[0m (0.00 B)\n"
      ]
     },
     "metadata": {},
     "output_type": "display_data"
    }
   ],
   "source": [
    "model.summary()"
   ]
  },
  {
   "cell_type": "code",
   "execution_count": 31,
   "id": "ee4ffffb",
   "metadata": {},
   "outputs": [
    {
     "name": "stdout",
     "output_type": "stream",
     "text": [
      "Epoch 1/100\n",
      "\u001b[1m30/30\u001b[0m \u001b[32m━━━━━━━━━━━━━━━━━━━━\u001b[0m\u001b[37m\u001b[0m \u001b[1m6s\u001b[0m 118ms/step - loss: 0.0281 - val_loss: 0.0079\n",
      "Epoch 2/100\n",
      "\u001b[1m30/30\u001b[0m \u001b[32m━━━━━━━━━━━━━━━━━━━━\u001b[0m\u001b[37m\u001b[0m \u001b[1m3s\u001b[0m 110ms/step - loss: 9.9735e-04 - val_loss: 0.0029\n",
      "Epoch 3/100\n",
      "\u001b[1m30/30\u001b[0m \u001b[32m━━━━━━━━━━━━━━━━━━━━\u001b[0m\u001b[37m\u001b[0m \u001b[1m3s\u001b[0m 111ms/step - loss: 4.3041e-04 - val_loss: 0.0031\n",
      "Epoch 4/100\n",
      "\u001b[1m30/30\u001b[0m \u001b[32m━━━━━━━━━━━━━━━━━━━━\u001b[0m\u001b[37m\u001b[0m \u001b[1m3s\u001b[0m 116ms/step - loss: 4.2827e-04 - val_loss: 0.0026\n",
      "Epoch 5/100\n",
      "\u001b[1m30/30\u001b[0m \u001b[32m━━━━━━━━━━━━━━━━━━━━\u001b[0m\u001b[37m\u001b[0m \u001b[1m4s\u001b[0m 118ms/step - loss: 3.9664e-04 - val_loss: 0.0034\n",
      "Epoch 6/100\n",
      "\u001b[1m30/30\u001b[0m \u001b[32m━━━━━━━━━━━━━━━━━━━━\u001b[0m\u001b[37m\u001b[0m \u001b[1m4s\u001b[0m 118ms/step - loss: 4.0073e-04 - val_loss: 0.0024\n",
      "Epoch 7/100\n",
      "\u001b[1m30/30\u001b[0m \u001b[32m━━━━━━━━━━━━━━━━━━━━\u001b[0m\u001b[37m\u001b[0m \u001b[1m4s\u001b[0m 118ms/step - loss: 3.8978e-04 - val_loss: 0.0016\n",
      "Epoch 8/100\n",
      "\u001b[1m30/30\u001b[0m \u001b[32m━━━━━━━━━━━━━━━━━━━━\u001b[0m\u001b[37m\u001b[0m \u001b[1m3s\u001b[0m 116ms/step - loss: 4.0462e-04 - val_loss: 0.0020\n",
      "Epoch 9/100\n",
      "\u001b[1m30/30\u001b[0m \u001b[32m━━━━━━━━━━━━━━━━━━━━\u001b[0m\u001b[37m\u001b[0m \u001b[1m4s\u001b[0m 120ms/step - loss: 3.7104e-04 - val_loss: 0.0032\n",
      "Epoch 10/100\n",
      "\u001b[1m30/30\u001b[0m \u001b[32m━━━━━━━━━━━━━━━━━━━━\u001b[0m\u001b[37m\u001b[0m \u001b[1m4s\u001b[0m 122ms/step - loss: 3.3130e-04 - val_loss: 0.0021\n",
      "Epoch 11/100\n",
      "\u001b[1m30/30\u001b[0m \u001b[32m━━━━━━━━━━━━━━━━━━━━\u001b[0m\u001b[37m\u001b[0m \u001b[1m4s\u001b[0m 118ms/step - loss: 3.3780e-04 - val_loss: 0.0015\n",
      "Epoch 12/100\n",
      "\u001b[1m30/30\u001b[0m \u001b[32m━━━━━━━━━━━━━━━━━━━━\u001b[0m\u001b[37m\u001b[0m \u001b[1m4s\u001b[0m 117ms/step - loss: 3.2292e-04 - val_loss: 0.0022\n",
      "Epoch 13/100\n",
      "\u001b[1m30/30\u001b[0m \u001b[32m━━━━━━━━━━━━━━━━━━━━\u001b[0m\u001b[37m\u001b[0m \u001b[1m4s\u001b[0m 117ms/step - loss: 3.4149e-04 - val_loss: 0.0015\n",
      "Epoch 14/100\n",
      "\u001b[1m30/30\u001b[0m \u001b[32m━━━━━━━━━━━━━━━━━━━━\u001b[0m\u001b[37m\u001b[0m \u001b[1m3s\u001b[0m 116ms/step - loss: 3.1952e-04 - val_loss: 0.0018\n",
      "Epoch 15/100\n",
      "\u001b[1m30/30\u001b[0m \u001b[32m━━━━━━━━━━━━━━━━━━━━\u001b[0m\u001b[37m\u001b[0m \u001b[1m4s\u001b[0m 117ms/step - loss: 3.0061e-04 - val_loss: 0.0019\n",
      "Epoch 16/100\n",
      "\u001b[1m30/30\u001b[0m \u001b[32m━━━━━━━━━━━━━━━━━━━━\u001b[0m\u001b[37m\u001b[0m \u001b[1m4s\u001b[0m 117ms/step - loss: 3.2463e-04 - val_loss: 8.9609e-04\n",
      "Epoch 17/100\n",
      "\u001b[1m30/30\u001b[0m \u001b[32m━━━━━━━━━━━━━━━━━━━━\u001b[0m\u001b[37m\u001b[0m \u001b[1m4s\u001b[0m 118ms/step - loss: 3.6794e-04 - val_loss: 9.2928e-04\n",
      "Epoch 18/100\n",
      "\u001b[1m30/30\u001b[0m \u001b[32m━━━━━━━━━━━━━━━━━━━━\u001b[0m\u001b[37m\u001b[0m \u001b[1m3s\u001b[0m 117ms/step - loss: 3.6052e-04 - val_loss: 0.0039\n",
      "Epoch 19/100\n",
      "\u001b[1m30/30\u001b[0m \u001b[32m━━━━━━━━━━━━━━━━━━━━\u001b[0m\u001b[37m\u001b[0m \u001b[1m4s\u001b[0m 117ms/step - loss: 2.7751e-04 - val_loss: 0.0015\n",
      "Epoch 20/100\n",
      "\u001b[1m30/30\u001b[0m \u001b[32m━━━━━━━━━━━━━━━━━━━━\u001b[0m\u001b[37m\u001b[0m \u001b[1m4s\u001b[0m 118ms/step - loss: 2.7337e-04 - val_loss: 0.0012\n",
      "Epoch 21/100\n",
      "\u001b[1m30/30\u001b[0m \u001b[32m━━━━━━━━━━━━━━━━━━━━\u001b[0m\u001b[37m\u001b[0m \u001b[1m4s\u001b[0m 117ms/step - loss: 2.5638e-04 - val_loss: 0.0032\n",
      "Epoch 22/100\n",
      "\u001b[1m30/30\u001b[0m \u001b[32m━━━━━━━━━━━━━━━━━━━━\u001b[0m\u001b[37m\u001b[0m \u001b[1m4s\u001b[0m 117ms/step - loss: 2.6466e-04 - val_loss: 0.0022\n",
      "Epoch 23/100\n",
      "\u001b[1m30/30\u001b[0m \u001b[32m━━━━━━━━━━━━━━━━━━━━\u001b[0m\u001b[37m\u001b[0m \u001b[1m4s\u001b[0m 118ms/step - loss: 2.3240e-04 - val_loss: 0.0017\n",
      "Epoch 24/100\n",
      "\u001b[1m30/30\u001b[0m \u001b[32m━━━━━━━━━━━━━━━━━━━━\u001b[0m\u001b[37m\u001b[0m \u001b[1m4s\u001b[0m 117ms/step - loss: 2.3784e-04 - val_loss: 0.0035\n",
      "Epoch 25/100\n",
      "\u001b[1m30/30\u001b[0m \u001b[32m━━━━━━━━━━━━━━━━━━━━\u001b[0m\u001b[37m\u001b[0m \u001b[1m3s\u001b[0m 116ms/step - loss: 2.7672e-04 - val_loss: 0.0026\n",
      "Epoch 26/100\n",
      "\u001b[1m30/30\u001b[0m \u001b[32m━━━━━━━━━━━━━━━━━━━━\u001b[0m\u001b[37m\u001b[0m \u001b[1m3s\u001b[0m 116ms/step - loss: 3.3996e-04 - val_loss: 0.0023\n",
      "Epoch 27/100\n",
      "\u001b[1m30/30\u001b[0m \u001b[32m━━━━━━━━━━━━━━━━━━━━\u001b[0m\u001b[37m\u001b[0m \u001b[1m4s\u001b[0m 117ms/step - loss: 2.4528e-04 - val_loss: 0.0014\n",
      "Epoch 28/100\n",
      "\u001b[1m30/30\u001b[0m \u001b[32m━━━━━━━━━━━━━━━━━━━━\u001b[0m\u001b[37m\u001b[0m \u001b[1m4s\u001b[0m 117ms/step - loss: 2.2646e-04 - val_loss: 0.0023\n",
      "Epoch 29/100\n",
      "\u001b[1m30/30\u001b[0m \u001b[32m━━━━━━━━━━━━━━━━━━━━\u001b[0m\u001b[37m\u001b[0m \u001b[1m4s\u001b[0m 118ms/step - loss: 2.3510e-04 - val_loss: 0.0022\n",
      "Epoch 30/100\n",
      "\u001b[1m30/30\u001b[0m \u001b[32m━━━━━━━━━━━━━━━━━━━━\u001b[0m\u001b[37m\u001b[0m \u001b[1m3s\u001b[0m 116ms/step - loss: 2.1700e-04 - val_loss: 0.0015\n",
      "Epoch 31/100\n",
      "\u001b[1m30/30\u001b[0m \u001b[32m━━━━━━━━━━━━━━━━━━━━\u001b[0m\u001b[37m\u001b[0m \u001b[1m3s\u001b[0m 117ms/step - loss: 2.0685e-04 - val_loss: 0.0012\n",
      "Epoch 32/100\n",
      "\u001b[1m30/30\u001b[0m \u001b[32m━━━━━━━━━━━━━━━━━━━━\u001b[0m\u001b[37m\u001b[0m \u001b[1m4s\u001b[0m 117ms/step - loss: 2.3370e-04 - val_loss: 0.0011\n",
      "Epoch 33/100\n",
      "\u001b[1m30/30\u001b[0m \u001b[32m━━━━━━━━━━━━━━━━━━━━\u001b[0m\u001b[37m\u001b[0m \u001b[1m3s\u001b[0m 115ms/step - loss: 2.1701e-04 - val_loss: 6.7368e-04\n",
      "Epoch 34/100\n",
      "\u001b[1m30/30\u001b[0m \u001b[32m━━━━━━━━━━━━━━━━━━━━\u001b[0m\u001b[37m\u001b[0m \u001b[1m3s\u001b[0m 116ms/step - loss: 2.1624e-04 - val_loss: 0.0011\n",
      "Epoch 35/100\n",
      "\u001b[1m30/30\u001b[0m \u001b[32m━━━━━━━━━━━━━━━━━━━━\u001b[0m\u001b[37m\u001b[0m \u001b[1m4s\u001b[0m 118ms/step - loss: 2.5723e-04 - val_loss: 0.0017\n",
      "Epoch 36/100\n",
      "\u001b[1m30/30\u001b[0m \u001b[32m━━━━━━━━━━━━━━━━━━━━\u001b[0m\u001b[37m\u001b[0m \u001b[1m3s\u001b[0m 116ms/step - loss: 2.1624e-04 - val_loss: 0.0029\n",
      "Epoch 37/100\n",
      "\u001b[1m30/30\u001b[0m \u001b[32m━━━━━━━━━━━━━━━━━━━━\u001b[0m\u001b[37m\u001b[0m \u001b[1m4s\u001b[0m 118ms/step - loss: 2.1343e-04 - val_loss: 0.0014\n",
      "Epoch 38/100\n",
      "\u001b[1m30/30\u001b[0m \u001b[32m━━━━━━━━━━━━━━━━━━━━\u001b[0m\u001b[37m\u001b[0m \u001b[1m4s\u001b[0m 119ms/step - loss: 2.1784e-04 - val_loss: 7.5023e-04\n",
      "Epoch 39/100\n",
      "\u001b[1m30/30\u001b[0m \u001b[32m━━━━━━━━━━━━━━━━━━━━\u001b[0m\u001b[37m\u001b[0m \u001b[1m4s\u001b[0m 117ms/step - loss: 2.1346e-04 - val_loss: 0.0013\n",
      "Epoch 40/100\n",
      "\u001b[1m30/30\u001b[0m \u001b[32m━━━━━━━━━━━━━━━━━━━━\u001b[0m\u001b[37m\u001b[0m \u001b[1m4s\u001b[0m 118ms/step - loss: 2.0307e-04 - val_loss: 0.0018\n",
      "Epoch 41/100\n",
      "\u001b[1m30/30\u001b[0m \u001b[32m━━━━━━━━━━━━━━━━━━━━\u001b[0m\u001b[37m\u001b[0m \u001b[1m4s\u001b[0m 119ms/step - loss: 1.8513e-04 - val_loss: 0.0020\n",
      "Epoch 42/100\n",
      "\u001b[1m30/30\u001b[0m \u001b[32m━━━━━━━━━━━━━━━━━━━━\u001b[0m\u001b[37m\u001b[0m \u001b[1m4s\u001b[0m 118ms/step - loss: 2.4220e-04 - val_loss: 8.9329e-04\n",
      "Epoch 43/100\n",
      "\u001b[1m30/30\u001b[0m \u001b[32m━━━━━━━━━━━━━━━━━━━━\u001b[0m\u001b[37m\u001b[0m \u001b[1m4s\u001b[0m 117ms/step - loss: 1.9779e-04 - val_loss: 0.0011\n",
      "Epoch 44/100\n",
      "\u001b[1m30/30\u001b[0m \u001b[32m━━━━━━━━━━━━━━━━━━━━\u001b[0m\u001b[37m\u001b[0m \u001b[1m4s\u001b[0m 118ms/step - loss: 1.7585e-04 - val_loss: 0.0015\n",
      "Epoch 45/100\n",
      "\u001b[1m30/30\u001b[0m \u001b[32m━━━━━━━━━━━━━━━━━━━━\u001b[0m\u001b[37m\u001b[0m \u001b[1m4s\u001b[0m 117ms/step - loss: 1.7934e-04 - val_loss: 7.7869e-04\n",
      "Epoch 46/100\n",
      "\u001b[1m30/30\u001b[0m \u001b[32m━━━━━━━━━━━━━━━━━━━━\u001b[0m\u001b[37m\u001b[0m \u001b[1m3s\u001b[0m 116ms/step - loss: 1.8073e-04 - val_loss: 0.0037\n",
      "Epoch 47/100\n",
      "\u001b[1m30/30\u001b[0m \u001b[32m━━━━━━━━━━━━━━━━━━━━\u001b[0m\u001b[37m\u001b[0m \u001b[1m4s\u001b[0m 118ms/step - loss: 2.5744e-04 - val_loss: 6.1622e-04\n",
      "Epoch 48/100\n",
      "\u001b[1m30/30\u001b[0m \u001b[32m━━━━━━━━━━━━━━━━━━━━\u001b[0m\u001b[37m\u001b[0m \u001b[1m4s\u001b[0m 121ms/step - loss: 1.6933e-04 - val_loss: 8.5900e-04\n",
      "Epoch 49/100\n",
      "\u001b[1m30/30\u001b[0m \u001b[32m━━━━━━━━━━━━━━━━━━━━\u001b[0m\u001b[37m\u001b[0m \u001b[1m4s\u001b[0m 118ms/step - loss: 1.6370e-04 - val_loss: 0.0016\n",
      "Epoch 50/100\n",
      "\u001b[1m30/30\u001b[0m \u001b[32m━━━━━━━━━━━━━━━━━━━━\u001b[0m\u001b[37m\u001b[0m \u001b[1m4s\u001b[0m 118ms/step - loss: 1.8963e-04 - val_loss: 4.6756e-04\n",
      "Epoch 51/100\n",
      "\u001b[1m30/30\u001b[0m \u001b[32m━━━━━━━━━━━━━━━━━━━━\u001b[0m\u001b[37m\u001b[0m \u001b[1m4s\u001b[0m 118ms/step - loss: 2.2413e-04 - val_loss: 5.0462e-04\n",
      "Epoch 52/100\n",
      "\u001b[1m30/30\u001b[0m \u001b[32m━━━━━━━━━━━━━━━━━━━━\u001b[0m\u001b[37m\u001b[0m \u001b[1m4s\u001b[0m 117ms/step - loss: 1.9310e-04 - val_loss: 8.4772e-04\n",
      "Epoch 53/100\n",
      "\u001b[1m30/30\u001b[0m \u001b[32m━━━━━━━━━━━━━━━━━━━━\u001b[0m\u001b[37m\u001b[0m \u001b[1m4s\u001b[0m 117ms/step - loss: 1.6535e-04 - val_loss: 7.0077e-04\n",
      "Epoch 54/100\n",
      "\u001b[1m30/30\u001b[0m \u001b[32m━━━━━━━━━━━━━━━━━━━━\u001b[0m\u001b[37m\u001b[0m \u001b[1m4s\u001b[0m 117ms/step - loss: 1.6613e-04 - val_loss: 8.6543e-04\n",
      "Epoch 55/100\n",
      "\u001b[1m30/30\u001b[0m \u001b[32m━━━━━━━━━━━━━━━━━━━━\u001b[0m\u001b[37m\u001b[0m \u001b[1m4s\u001b[0m 117ms/step - loss: 1.5779e-04 - val_loss: 0.0013\n",
      "Epoch 56/100\n",
      "\u001b[1m30/30\u001b[0m \u001b[32m━━━━━━━━━━━━━━━━━━━━\u001b[0m\u001b[37m\u001b[0m \u001b[1m4s\u001b[0m 118ms/step - loss: 1.5910e-04 - val_loss: 5.3904e-04\n",
      "Epoch 57/100\n",
      "\u001b[1m30/30\u001b[0m \u001b[32m━━━━━━━━━━━━━━━━━━━━\u001b[0m\u001b[37m\u001b[0m \u001b[1m4s\u001b[0m 117ms/step - loss: 1.4408e-04 - val_loss: 0.0036\n",
      "Epoch 58/100\n",
      "\u001b[1m30/30\u001b[0m \u001b[32m━━━━━━━━━━━━━━━━━━━━\u001b[0m\u001b[37m\u001b[0m \u001b[1m4s\u001b[0m 117ms/step - loss: 2.6970e-04 - val_loss: 4.1880e-04\n",
      "Epoch 59/100\n",
      "\u001b[1m30/30\u001b[0m \u001b[32m━━━━━━━━━━━━━━━━━━━━\u001b[0m\u001b[37m\u001b[0m \u001b[1m3s\u001b[0m 116ms/step - loss: 1.4819e-04 - val_loss: 0.0011\n",
      "Epoch 60/100\n",
      "\u001b[1m30/30\u001b[0m \u001b[32m━━━━━━━━━━━━━━━━━━━━\u001b[0m\u001b[37m\u001b[0m \u001b[1m3s\u001b[0m 116ms/step - loss: 1.2932e-04 - val_loss: 4.5804e-04\n",
      "Epoch 61/100\n",
      "\u001b[1m30/30\u001b[0m \u001b[32m━━━━━━━━━━━━━━━━━━━━\u001b[0m\u001b[37m\u001b[0m \u001b[1m3s\u001b[0m 116ms/step - loss: 1.4915e-04 - val_loss: 7.7070e-04\n",
      "Epoch 62/100\n",
      "\u001b[1m30/30\u001b[0m \u001b[32m━━━━━━━━━━━━━━━━━━━━\u001b[0m\u001b[37m\u001b[0m \u001b[1m4s\u001b[0m 118ms/step - loss: 1.3236e-04 - val_loss: 0.0011\n",
      "Epoch 63/100\n",
      "\u001b[1m30/30\u001b[0m \u001b[32m━━━━━━━━━━━━━━━━━━━━\u001b[0m\u001b[37m\u001b[0m \u001b[1m4s\u001b[0m 121ms/step - loss: 1.6341e-04 - val_loss: 0.0019\n",
      "Epoch 64/100\n",
      "\u001b[1m30/30\u001b[0m \u001b[32m━━━━━━━━━━━━━━━━━━━━\u001b[0m\u001b[37m\u001b[0m \u001b[1m4s\u001b[0m 121ms/step - loss: 1.6175e-04 - val_loss: 0.0012\n",
      "Epoch 65/100\n"
     ]
    },
    {
     "name": "stdout",
     "output_type": "stream",
     "text": [
      "\u001b[1m30/30\u001b[0m \u001b[32m━━━━━━━━━━━━━━━━━━━━\u001b[0m\u001b[37m\u001b[0m \u001b[1m4s\u001b[0m 118ms/step - loss: 1.3853e-04 - val_loss: 0.0016\n",
      "Epoch 66/100\n",
      "\u001b[1m30/30\u001b[0m \u001b[32m━━━━━━━━━━━━━━━━━━━━\u001b[0m\u001b[37m\u001b[0m \u001b[1m4s\u001b[0m 117ms/step - loss: 1.4250e-04 - val_loss: 0.0021\n",
      "Epoch 67/100\n",
      "\u001b[1m30/30\u001b[0m \u001b[32m━━━━━━━━━━━━━━━━━━━━\u001b[0m\u001b[37m\u001b[0m \u001b[1m3s\u001b[0m 117ms/step - loss: 1.9882e-04 - val_loss: 3.5856e-04\n",
      "Epoch 68/100\n",
      "\u001b[1m30/30\u001b[0m \u001b[32m━━━━━━━━━━━━━━━━━━━━\u001b[0m\u001b[37m\u001b[0m \u001b[1m4s\u001b[0m 117ms/step - loss: 1.5741e-04 - val_loss: 3.4478e-04\n",
      "Epoch 69/100\n",
      "\u001b[1m30/30\u001b[0m \u001b[32m━━━━━━━━━━━━━━━━━━━━\u001b[0m\u001b[37m\u001b[0m \u001b[1m4s\u001b[0m 118ms/step - loss: 1.4330e-04 - val_loss: 8.1720e-04\n",
      "Epoch 70/100\n",
      "\u001b[1m30/30\u001b[0m \u001b[32m━━━━━━━━━━━━━━━━━━━━\u001b[0m\u001b[37m\u001b[0m \u001b[1m4s\u001b[0m 117ms/step - loss: 1.2797e-04 - val_loss: 5.5144e-04\n",
      "Epoch 71/100\n",
      "\u001b[1m30/30\u001b[0m \u001b[32m━━━━━━━━━━━━━━━━━━━━\u001b[0m\u001b[37m\u001b[0m \u001b[1m4s\u001b[0m 117ms/step - loss: 1.1537e-04 - val_loss: 0.0014\n",
      "Epoch 72/100\n",
      "\u001b[1m30/30\u001b[0m \u001b[32m━━━━━━━━━━━━━━━━━━━━\u001b[0m\u001b[37m\u001b[0m \u001b[1m3s\u001b[0m 116ms/step - loss: 1.3923e-04 - val_loss: 9.3313e-04\n",
      "Epoch 73/100\n",
      "\u001b[1m30/30\u001b[0m \u001b[32m━━━━━━━━━━━━━━━━━━━━\u001b[0m\u001b[37m\u001b[0m \u001b[1m4s\u001b[0m 117ms/step - loss: 1.1588e-04 - val_loss: 5.8865e-04\n",
      "Epoch 74/100\n",
      "\u001b[1m30/30\u001b[0m \u001b[32m━━━━━━━━━━━━━━━━━━━━\u001b[0m\u001b[37m\u001b[0m \u001b[1m4s\u001b[0m 118ms/step - loss: 1.1294e-04 - val_loss: 3.0189e-04\n",
      "Epoch 75/100\n",
      "\u001b[1m30/30\u001b[0m \u001b[32m━━━━━━━━━━━━━━━━━━━━\u001b[0m\u001b[37m\u001b[0m \u001b[1m4s\u001b[0m 119ms/step - loss: 1.3803e-04 - val_loss: 6.0828e-04\n",
      "Epoch 76/100\n",
      "\u001b[1m30/30\u001b[0m \u001b[32m━━━━━━━━━━━━━━━━━━━━\u001b[0m\u001b[37m\u001b[0m \u001b[1m3s\u001b[0m 116ms/step - loss: 1.1150e-04 - val_loss: 3.6653e-04\n",
      "Epoch 77/100\n",
      "\u001b[1m30/30\u001b[0m \u001b[32m━━━━━━━━━━━━━━━━━━━━\u001b[0m\u001b[37m\u001b[0m \u001b[1m3s\u001b[0m 116ms/step - loss: 1.1674e-04 - val_loss: 2.5757e-04\n",
      "Epoch 78/100\n",
      "\u001b[1m30/30\u001b[0m \u001b[32m━━━━━━━━━━━━━━━━━━━━\u001b[0m\u001b[37m\u001b[0m \u001b[1m3s\u001b[0m 116ms/step - loss: 1.3327e-04 - val_loss: 3.3432e-04\n",
      "Epoch 79/100\n",
      "\u001b[1m30/30\u001b[0m \u001b[32m━━━━━━━━━━━━━━━━━━━━\u001b[0m\u001b[37m\u001b[0m \u001b[1m4s\u001b[0m 117ms/step - loss: 1.3755e-04 - val_loss: 8.4546e-04\n",
      "Epoch 80/100\n",
      "\u001b[1m30/30\u001b[0m \u001b[32m━━━━━━━━━━━━━━━━━━━━\u001b[0m\u001b[37m\u001b[0m \u001b[1m4s\u001b[0m 119ms/step - loss: 1.2944e-04 - val_loss: 3.7296e-04\n",
      "Epoch 81/100\n",
      "\u001b[1m30/30\u001b[0m \u001b[32m━━━━━━━━━━━━━━━━━━━━\u001b[0m\u001b[37m\u001b[0m \u001b[1m3s\u001b[0m 116ms/step - loss: 1.4541e-04 - val_loss: 6.3359e-04\n",
      "Epoch 82/100\n",
      "\u001b[1m30/30\u001b[0m \u001b[32m━━━━━━━━━━━━━━━━━━━━\u001b[0m\u001b[37m\u001b[0m \u001b[1m4s\u001b[0m 118ms/step - loss: 1.2039e-04 - val_loss: 4.1439e-04\n",
      "Epoch 83/100\n",
      "\u001b[1m30/30\u001b[0m \u001b[32m━━━━━━━━━━━━━━━━━━━━\u001b[0m\u001b[37m\u001b[0m \u001b[1m4s\u001b[0m 118ms/step - loss: 1.1149e-04 - val_loss: 2.2679e-04\n",
      "Epoch 84/100\n",
      "\u001b[1m30/30\u001b[0m \u001b[32m━━━━━━━━━━━━━━━━━━━━\u001b[0m\u001b[37m\u001b[0m \u001b[1m4s\u001b[0m 117ms/step - loss: 1.2064e-04 - val_loss: 0.0010\n",
      "Epoch 85/100\n",
      "\u001b[1m30/30\u001b[0m \u001b[32m━━━━━━━━━━━━━━━━━━━━\u001b[0m\u001b[37m\u001b[0m \u001b[1m3s\u001b[0m 115ms/step - loss: 1.2556e-04 - val_loss: 2.6306e-04\n",
      "Epoch 86/100\n",
      "\u001b[1m30/30\u001b[0m \u001b[32m━━━━━━━━━━━━━━━━━━━━\u001b[0m\u001b[37m\u001b[0m \u001b[1m4s\u001b[0m 118ms/step - loss: 1.3495e-04 - val_loss: 0.0017\n",
      "Epoch 87/100\n",
      "\u001b[1m30/30\u001b[0m \u001b[32m━━━━━━━━━━━━━━━━━━━━\u001b[0m\u001b[37m\u001b[0m \u001b[1m3s\u001b[0m 115ms/step - loss: 1.2551e-04 - val_loss: 3.7050e-04\n",
      "Epoch 88/100\n",
      "\u001b[1m30/30\u001b[0m \u001b[32m━━━━━━━━━━━━━━━━━━━━\u001b[0m\u001b[37m\u001b[0m \u001b[1m4s\u001b[0m 123ms/step - loss: 9.6593e-05 - val_loss: 3.8035e-04\n",
      "Epoch 89/100\n",
      "\u001b[1m30/30\u001b[0m \u001b[32m━━━━━━━━━━━━━━━━━━━━\u001b[0m\u001b[37m\u001b[0m \u001b[1m4s\u001b[0m 146ms/step - loss: 9.5215e-05 - val_loss: 2.8949e-04\n",
      "Epoch 90/100\n",
      "\u001b[1m30/30\u001b[0m \u001b[32m━━━━━━━━━━━━━━━━━━━━\u001b[0m\u001b[37m\u001b[0m \u001b[1m3s\u001b[0m 116ms/step - loss: 1.0658e-04 - val_loss: 5.5175e-04\n",
      "Epoch 91/100\n",
      "\u001b[1m30/30\u001b[0m \u001b[32m━━━━━━━━━━━━━━━━━━━━\u001b[0m\u001b[37m\u001b[0m \u001b[1m3s\u001b[0m 116ms/step - loss: 1.1811e-04 - val_loss: 4.1048e-04\n",
      "Epoch 92/100\n",
      "\u001b[1m30/30\u001b[0m \u001b[32m━━━━━━━━━━━━━━━━━━━━\u001b[0m\u001b[37m\u001b[0m \u001b[1m4s\u001b[0m 117ms/step - loss: 1.0833e-04 - val_loss: 4.1882e-04\n",
      "Epoch 93/100\n",
      "\u001b[1m30/30\u001b[0m \u001b[32m━━━━━━━━━━━━━━━━━━━━\u001b[0m\u001b[37m\u001b[0m \u001b[1m4s\u001b[0m 117ms/step - loss: 1.2112e-04 - val_loss: 2.1156e-04\n",
      "Epoch 94/100\n",
      "\u001b[1m30/30\u001b[0m \u001b[32m━━━━━━━━━━━━━━━━━━━━\u001b[0m\u001b[37m\u001b[0m \u001b[1m4s\u001b[0m 118ms/step - loss: 1.0193e-04 - val_loss: 8.3677e-04\n",
      "Epoch 95/100\n",
      "\u001b[1m30/30\u001b[0m \u001b[32m━━━━━━━━━━━━━━━━━━━━\u001b[0m\u001b[37m\u001b[0m \u001b[1m4s\u001b[0m 120ms/step - loss: 1.0514e-04 - val_loss: 2.2048e-04\n",
      "Epoch 96/100\n",
      "\u001b[1m30/30\u001b[0m \u001b[32m━━━━━━━━━━━━━━━━━━━━\u001b[0m\u001b[37m\u001b[0m \u001b[1m3s\u001b[0m 116ms/step - loss: 1.1619e-04 - val_loss: 4.4133e-04\n",
      "Epoch 97/100\n",
      "\u001b[1m30/30\u001b[0m \u001b[32m━━━━━━━━━━━━━━━━━━━━\u001b[0m\u001b[37m\u001b[0m \u001b[1m4s\u001b[0m 119ms/step - loss: 1.0042e-04 - val_loss: 1.8210e-04\n",
      "Epoch 98/100\n",
      "\u001b[1m30/30\u001b[0m \u001b[32m━━━━━━━━━━━━━━━━━━━━\u001b[0m\u001b[37m\u001b[0m \u001b[1m3s\u001b[0m 116ms/step - loss: 9.4596e-05 - val_loss: 4.7752e-04\n",
      "Epoch 99/100\n",
      "\u001b[1m30/30\u001b[0m \u001b[32m━━━━━━━━━━━━━━━━━━━━\u001b[0m\u001b[37m\u001b[0m \u001b[1m4s\u001b[0m 119ms/step - loss: 1.1475e-04 - val_loss: 1.9166e-04\n",
      "Epoch 100/100\n",
      "\u001b[1m30/30\u001b[0m \u001b[32m━━━━━━━━━━━━━━━━━━━━\u001b[0m\u001b[37m\u001b[0m \u001b[1m4s\u001b[0m 119ms/step - loss: 9.1917e-05 - val_loss: 6.7904e-04\n"
     ]
    },
    {
     "data": {
      "text/plain": [
       "<keras.src.callbacks.history.History at 0x289f3a410>"
      ]
     },
     "execution_count": 31,
     "metadata": {},
     "output_type": "execute_result"
    }
   ],
   "source": [
    "model.fit(X_train,y_train,validation_data=(X_test,ytest),epochs=100,batch_size=64,verbose=1)"
   ]
  },
  {
   "cell_type": "code",
   "execution_count": 32,
   "id": "1036345a",
   "metadata": {},
   "outputs": [
    {
     "name": "stdout",
     "output_type": "stream",
     "text": [
      "\u001b[1m60/60\u001b[0m \u001b[32m━━━━━━━━━━━━━━━━━━━━\u001b[0m\u001b[37m\u001b[0m \u001b[1m2s\u001b[0m 21ms/step\n",
      "\u001b[1m13/13\u001b[0m \u001b[32m━━━━━━━━━━━━━━━━━━━━\u001b[0m\u001b[37m\u001b[0m \u001b[1m0s\u001b[0m 18ms/step\n"
     ]
    }
   ],
   "source": [
    "train_predict=model.predict(X_train)\n",
    "test_predict=model.predict(X_test)"
   ]
  },
  {
   "cell_type": "code",
   "execution_count": 34,
   "id": "36889e51",
   "metadata": {},
   "outputs": [],
   "source": [
    "##Transformback to original form\n",
    "train_predict=scaler.inverse_transform(train_predict)\n",
    "test_predict=scaler.inverse_transform(test_predict)"
   ]
  },
  {
   "cell_type": "code",
   "execution_count": null,
   "id": "dd9654a4",
   "metadata": {},
   "outputs": [],
   "source": []
  },
  {
   "cell_type": "code",
   "execution_count": 36,
   "id": "e87e9bd8",
   "metadata": {},
   "outputs": [],
   "source": [
    "import math\n",
    "from sklearn.metrics import mean_squared_error"
   ]
  },
  {
   "cell_type": "code",
   "execution_count": 37,
   "id": "6cf22262",
   "metadata": {},
   "outputs": [
    {
     "data": {
      "text/plain": [
       "20960.3619675837"
      ]
     },
     "execution_count": 37,
     "metadata": {},
     "output_type": "execute_result"
    }
   ],
   "source": [
    "math.sqrt(mean_squared_error(y_train,train_predict))"
   ]
  },
  {
   "cell_type": "code",
   "execution_count": 38,
   "id": "fcc2e47e",
   "metadata": {},
   "outputs": [
    {
     "data": {
      "text/plain": [
       "45963.28390783307"
      ]
     },
     "execution_count": 38,
     "metadata": {},
     "output_type": "execute_result"
    }
   ],
   "source": [
    "math.sqrt(mean_squared_error(ytest,test_predict))"
   ]
  },
  {
   "cell_type": "code",
   "execution_count": 41,
   "id": "bff67546",
   "metadata": {},
   "outputs": [
    {
     "data": {
      "image/png": "[encoded data removed]",
      "text/plain": [
       "<Figure size 640x480 with 1 Axes>"
      ]
     },
     "metadata": {},
     "output_type": "display_data"
    }
   ],
   "source": [
    "### Plotting \n",
    "# shift train predictions for plotting\n",
    "look_back=100\n",
    "trainPredictPlot = np.empty_like(df1)\n",
    "trainPredictPlot[:, :] = np.nan\n",
    "trainPredictPlot[look_back:len(train_predict)+look_back, :] = train_predict\n",
    "# shift test predictions for plotting\n",
    "testPredictPlot = np.empty_like(df1)\n",
    "testPredictPlot[:, :] = np.nan\n",
    "testPredictPlot[len(train_predict)+(look_back*2)+1:len(df1)-1, :] = test_predict\n",
    "# plot baseline and predictions\n",
    "plt.plot(scaler.inverse_transform(df1))\n",
    "plt.plot(trainPredictPlot)\n",
    "plt.plot(testPredictPlot)\n",
    "plt.show()\n",
    "\n",
    "# Blue Line: Actual data (baseline).\n",
    "# Orange Line: Training predictions.\n",
    "# Green Line: Test predictions."
   ]
  },
  {
   "cell_type": "code",
   "execution_count": 44,
   "id": "a748ec1e",
   "metadata": {},
   "outputs": [
    {
     "data": {
      "text/plain": [
       "504"
      ]
     },
     "execution_count": 44,
     "metadata": {},
     "output_type": "execute_result"
    }
   ],
   "source": [
    "len(test_data)"
   ]
  },
  {
   "cell_type": "code",
   "execution_count": 45,
   "id": "1d65f8ba",
   "metadata": {},
   "outputs": [
    {
     "data": {
      "text/plain": [
       "(1, 100)"
      ]
     },
     "execution_count": 45,
     "metadata": {},
     "output_type": "execute_result"
    }
   ],
   "source": [
    "x_input=test_data[404:].reshape(1,-1)\n",
    "x_input.shape"
   ]
  },
  {
   "cell_type": "code",
   "execution_count": 46,
   "id": "3d670f11",
   "metadata": {},
   "outputs": [],
   "source": [
    "temp_input=list(x_input)\n",
    "temp_input=temp_input[0].tolist()"
   ]
  },
  {
   "cell_type": "code",
   "execution_count": 47,
   "id": "7fe8484d",
   "metadata": {},
   "outputs": [
    {
     "name": "stdout",
     "output_type": "stream",
     "text": [
      "[0.9232755]\n",
      "101\n",
      "1 day input [0.8245184  0.84033673 0.84223998 0.85492846 0.86055369 0.85987696\n",
      " 0.86249922 0.86203398 0.85412485 0.86389496 0.86533298 0.86892807\n",
      " 0.86241468 0.87637195 0.87303068 0.84668096 0.83856035 0.84503146\n",
      " 0.83843347 0.83881411 0.8354305  0.84621572 0.84668096 0.84553898\n",
      " 0.81940075 0.82138855 0.83788361 0.87248083 0.86964708 0.86233007\n",
      " 0.86613659 0.8619071  0.86677105 0.86791297 0.88994865 0.86123043\n",
      " 0.86364121 0.85894647 0.86372581 0.8421131  0.85936944 0.87531458\n",
      " 0.87319984 0.86689793 0.88275853 0.89354375 0.88478867 0.88635356\n",
      " 0.89840764 0.90466727 0.902045   0.88047457 0.87967102 0.88322378\n",
      " 0.89164042 0.89278241 0.87768315 0.85996157 0.84727309 0.84346651\n",
      " 0.84955699 0.84646948 0.86660184 0.86440255 0.85285599 0.85285599\n",
      " 0.85662023 0.86973168 0.85611271 0.8688858  0.86998544 0.87303068\n",
      " 0.87100055 0.87671032 0.8893988  0.8986614  0.89811154 0.90826236\n",
      " 0.91782099 0.93076323 0.93228585 0.93241273 0.93156684 0.94810417\n",
      " 0.95241827 0.94700453 0.95322189 0.95394089 0.96624867 0.97656864\n",
      " 0.95360253 0.9609618  0.98084047 0.98413947 0.99653191 1.\n",
      " 0.98549287 0.9711549  0.9636264  0.92327547]\n",
      "1 day output [[0.8953347]]\n",
      "2 day input [0.84033673 0.84223998 0.85492846 0.86055369 0.85987696 0.86249922\n",
      " 0.86203398 0.85412485 0.86389496 0.86533298 0.86892807 0.86241468\n",
      " 0.87637195 0.87303068 0.84668096 0.83856035 0.84503146 0.83843347\n",
      " 0.83881411 0.8354305  0.84621572 0.84668096 0.84553898 0.81940075\n",
      " 0.82138855 0.83788361 0.87248083 0.86964708 0.86233007 0.86613659\n",
      " 0.8619071  0.86677105 0.86791297 0.88994865 0.86123043 0.86364121\n",
      " 0.85894647 0.86372581 0.8421131  0.85936944 0.87531458 0.87319984\n",
      " 0.86689793 0.88275853 0.89354375 0.88478867 0.88635356 0.89840764\n",
      " 0.90466727 0.902045   0.88047457 0.87967102 0.88322378 0.89164042\n",
      " 0.89278241 0.87768315 0.85996157 0.84727309 0.84346651 0.84955699\n",
      " 0.84646948 0.86660184 0.86440255 0.85285599 0.85285599 0.85662023\n",
      " 0.86973168 0.85611271 0.8688858  0.86998544 0.87303068 0.87100055\n",
      " 0.87671032 0.8893988  0.8986614  0.89811154 0.90826236 0.91782099\n",
      " 0.93076323 0.93228585 0.93241273 0.93156684 0.94810417 0.95241827\n",
      " 0.94700453 0.95322189 0.95394089 0.96624867 0.97656864 0.95360253\n",
      " 0.9609618  0.98084047 0.98413947 0.99653191 1.         0.98549287\n",
      " 0.9711549  0.9636264  0.92327547 0.89533472]\n",
      "2 day output [[0.86516076]]\n",
      "3 day input [0.84223998 0.85492846 0.86055369 0.85987696 0.86249922 0.86203398\n",
      " 0.85412485 0.86389496 0.86533298 0.86892807 0.86241468 0.87637195\n",
      " 0.87303068 0.84668096 0.83856035 0.84503146 0.83843347 0.83881411\n",
      " 0.8354305  0.84621572 0.84668096 0.84553898 0.81940075 0.82138855\n",
      " 0.83788361 0.87248083 0.86964708 0.86233007 0.86613659 0.8619071\n",
      " 0.86677105 0.86791297 0.88994865 0.86123043 0.86364121 0.85894647\n",
      " 0.86372581 0.8421131  0.85936944 0.87531458 0.87319984 0.86689793\n",
      " 0.88275853 0.89354375 0.88478867 0.88635356 0.89840764 0.90466727\n",
      " 0.902045   0.88047457 0.87967102 0.88322378 0.89164042 0.89278241\n",
      " 0.87768315 0.85996157 0.84727309 0.84346651 0.84955699 0.84646948\n",
      " 0.86660184 0.86440255 0.85285599 0.85285599 0.85662023 0.86973168\n",
      " 0.85611271 0.8688858  0.86998544 0.87303068 0.87100055 0.87671032\n",
      " 0.8893988  0.8986614  0.89811154 0.90826236 0.91782099 0.93076323\n",
      " 0.93228585 0.93241273 0.93156684 0.94810417 0.95241827 0.94700453\n",
      " 0.95322189 0.95394089 0.96624867 0.97656864 0.95360253 0.9609618\n",
      " 0.98084047 0.98413947 0.99653191 1.         0.98549287 0.9711549\n",
      " 0.9636264  0.92327547 0.89533472 0.86516076]\n",
      "3 day output [[0.8377165]]\n",
      "4 day input [0.85492846 0.86055369 0.85987696 0.86249922 0.86203398 0.85412485\n",
      " 0.86389496 0.86533298 0.86892807 0.86241468 0.87637195 0.87303068\n",
      " 0.84668096 0.83856035 0.84503146 0.83843347 0.83881411 0.8354305\n",
      " 0.84621572 0.84668096 0.84553898 0.81940075 0.82138855 0.83788361\n",
      " 0.87248083 0.86964708 0.86233007 0.86613659 0.8619071  0.86677105\n",
      " 0.86791297 0.88994865 0.86123043 0.86364121 0.85894647 0.86372581\n",
      " 0.8421131  0.85936944 0.87531458 0.87319984 0.86689793 0.88275853\n",
      " 0.89354375 0.88478867 0.88635356 0.89840764 0.90466727 0.902045\n",
      " 0.88047457 0.87967102 0.88322378 0.89164042 0.89278241 0.87768315\n",
      " 0.85996157 0.84727309 0.84346651 0.84955699 0.84646948 0.86660184\n",
      " 0.86440255 0.85285599 0.85285599 0.85662023 0.86973168 0.85611271\n",
      " 0.8688858  0.86998544 0.87303068 0.87100055 0.87671032 0.8893988\n",
      " 0.8986614  0.89811154 0.90826236 0.91782099 0.93076323 0.93228585\n",
      " 0.93241273 0.93156684 0.94810417 0.95241827 0.94700453 0.95322189\n",
      " 0.95394089 0.96624867 0.97656864 0.95360253 0.9609618  0.98084047\n",
      " 0.98413947 0.99653191 1.         0.98549287 0.9711549  0.9636264\n",
      " 0.92327547 0.89533472 0.86516076 0.83771652]\n",
      "4 day output [[0.8134864]]\n",
      "5 day input [0.86055369 0.85987696 0.86249922 0.86203398 0.85412485 0.86389496\n",
      " 0.86533298 0.86892807 0.86241468 0.87637195 0.87303068 0.84668096\n",
      " 0.83856035 0.84503146 0.83843347 0.83881411 0.8354305  0.84621572\n",
      " 0.84668096 0.84553898 0.81940075 0.82138855 0.83788361 0.87248083\n",
      " 0.86964708 0.86233007 0.86613659 0.8619071  0.86677105 0.86791297\n",
      " 0.88994865 0.86123043 0.86364121 0.85894647 0.86372581 0.8421131\n",
      " 0.85936944 0.87531458 0.87319984 0.86689793 0.88275853 0.89354375\n",
      " 0.88478867 0.88635356 0.89840764 0.90466727 0.902045   0.88047457\n",
      " 0.87967102 0.88322378 0.89164042 0.89278241 0.87768315 0.85996157\n",
      " 0.84727309 0.84346651 0.84955699 0.84646948 0.86660184 0.86440255\n",
      " 0.85285599 0.85285599 0.85662023 0.86973168 0.85611271 0.8688858\n",
      " 0.86998544 0.87303068 0.87100055 0.87671032 0.8893988  0.8986614\n",
      " 0.89811154 0.90826236 0.91782099 0.93076323 0.93228585 0.93241273\n",
      " 0.93156684 0.94810417 0.95241827 0.94700453 0.95322189 0.95394089\n",
      " 0.96624867 0.97656864 0.95360253 0.9609618  0.98084047 0.98413947\n",
      " 0.99653191 1.         0.98549287 0.9711549  0.9636264  0.92327547\n",
      " 0.89533472 0.86516076 0.83771652 0.8134864 ]\n",
      "5 day output [[0.79199153]]\n",
      "6 day input [0.85987696 0.86249922 0.86203398 0.85412485 0.86389496 0.86533298\n",
      " 0.86892807 0.86241468 0.87637195 0.87303068 0.84668096 0.83856035\n",
      " 0.84503146 0.83843347 0.83881411 0.8354305  0.84621572 0.84668096\n",
      " 0.84553898 0.81940075 0.82138855 0.83788361 0.87248083 0.86964708\n",
      " 0.86233007 0.86613659 0.8619071  0.86677105 0.86791297 0.88994865\n",
      " 0.86123043 0.86364121 0.85894647 0.86372581 0.8421131  0.85936944\n",
      " 0.87531458 0.87319984 0.86689793 0.88275853 0.89354375 0.88478867\n",
      " 0.88635356 0.89840764 0.90466727 0.902045   0.88047457 0.87967102\n",
      " 0.88322378 0.89164042 0.89278241 0.87768315 0.85996157 0.84727309\n",
      " 0.84346651 0.84955699 0.84646948 0.86660184 0.86440255 0.85285599\n",
      " 0.85285599 0.85662023 0.86973168 0.85611271 0.8688858  0.86998544\n",
      " 0.87303068 0.87100055 0.87671032 0.8893988  0.8986614  0.89811154\n",
      " 0.90826236 0.91782099 0.93076323 0.93228585 0.93241273 0.93156684\n",
      " 0.94810417 0.95241827 0.94700453 0.95322189 0.95394089 0.96624867\n",
      " 0.97656864 0.95360253 0.9609618  0.98084047 0.98413947 0.99653191\n",
      " 1.         0.98549287 0.9711549  0.9636264  0.92327547 0.89533472\n",
      " 0.86516076 0.83771652 0.8134864  0.79199153]\n",
      "6 day output [[0.7724926]]\n",
      "7 day input [0.86249922 0.86203398 0.85412485 0.86389496 0.86533298 0.86892807\n",
      " 0.86241468 0.87637195 0.87303068 0.84668096 0.83856035 0.84503146\n",
      " 0.83843347 0.83881411 0.8354305  0.84621572 0.84668096 0.84553898\n",
      " 0.81940075 0.82138855 0.83788361 0.87248083 0.86964708 0.86233007\n",
      " 0.86613659 0.8619071  0.86677105 0.86791297 0.88994865 0.86123043\n",
      " 0.86364121 0.85894647 0.86372581 0.8421131  0.85936944 0.87531458\n",
      " 0.87319984 0.86689793 0.88275853 0.89354375 0.88478867 0.88635356\n",
      " 0.89840764 0.90466727 0.902045   0.88047457 0.87967102 0.88322378\n",
      " 0.89164042 0.89278241 0.87768315 0.85996157 0.84727309 0.84346651\n",
      " 0.84955699 0.84646948 0.86660184 0.86440255 0.85285599 0.85285599\n",
      " 0.85662023 0.86973168 0.85611271 0.8688858  0.86998544 0.87303068\n",
      " 0.87100055 0.87671032 0.8893988  0.8986614  0.89811154 0.90826236\n",
      " 0.91782099 0.93076323 0.93228585 0.93241273 0.93156684 0.94810417\n",
      " 0.95241827 0.94700453 0.95322189 0.95394089 0.96624867 0.97656864\n",
      " 0.95360253 0.9609618  0.98084047 0.98413947 0.99653191 1.\n",
      " 0.98549287 0.9711549  0.9636264  0.92327547 0.89533472 0.86516076\n",
      " 0.83771652 0.8134864  0.79199153 0.77249259]\n",
      "7 day output [[0.7542144]]\n",
      "8 day input [0.86203398 0.85412485 0.86389496 0.86533298 0.86892807 0.86241468\n",
      " 0.87637195 0.87303068 0.84668096 0.83856035 0.84503146 0.83843347\n",
      " 0.83881411 0.8354305  0.84621572 0.84668096 0.84553898 0.81940075\n",
      " 0.82138855 0.83788361 0.87248083 0.86964708 0.86233007 0.86613659\n",
      " 0.8619071  0.86677105 0.86791297 0.88994865 0.86123043 0.86364121\n",
      " 0.85894647 0.86372581 0.8421131  0.85936944 0.87531458 0.87319984\n",
      " 0.86689793 0.88275853 0.89354375 0.88478867 0.88635356 0.89840764\n",
      " 0.90466727 0.902045   0.88047457 0.87967102 0.88322378 0.89164042\n",
      " 0.89278241 0.87768315 0.85996157 0.84727309 0.84346651 0.84955699\n",
      " 0.84646948 0.86660184 0.86440255 0.85285599 0.85285599 0.85662023\n",
      " 0.86973168 0.85611271 0.8688858  0.86998544 0.87303068 0.87100055\n",
      " 0.87671032 0.8893988  0.8986614  0.89811154 0.90826236 0.91782099\n",
      " 0.93076323 0.93228585 0.93241273 0.93156684 0.94810417 0.95241827\n",
      " 0.94700453 0.95322189 0.95394089 0.96624867 0.97656864 0.95360253\n",
      " 0.9609618  0.98084047 0.98413947 0.99653191 1.         0.98549287\n",
      " 0.9711549  0.9636264  0.92327547 0.89533472 0.86516076 0.83771652\n",
      " 0.8134864  0.79199153 0.77249259 0.75421441]\n",
      "8 day output [[0.7365148]]\n",
      "9 day input [0.85412485 0.86389496 0.86533298 0.86892807 0.86241468 0.87637195\n",
      " 0.87303068 0.84668096 0.83856035 0.84503146 0.83843347 0.83881411\n",
      " 0.8354305  0.84621572 0.84668096 0.84553898 0.81940075 0.82138855\n",
      " 0.83788361 0.87248083 0.86964708 0.86233007 0.86613659 0.8619071\n",
      " 0.86677105 0.86791297 0.88994865 0.86123043 0.86364121 0.85894647\n",
      " 0.86372581 0.8421131  0.85936944 0.87531458 0.87319984 0.86689793\n",
      " 0.88275853 0.89354375 0.88478867 0.88635356 0.89840764 0.90466727\n",
      " 0.902045   0.88047457 0.87967102 0.88322378 0.89164042 0.89278241\n",
      " 0.87768315 0.85996157 0.84727309 0.84346651 0.84955699 0.84646948\n",
      " 0.86660184 0.86440255 0.85285599 0.85285599 0.85662023 0.86973168\n",
      " 0.85611271 0.8688858  0.86998544 0.87303068 0.87100055 0.87671032\n",
      " 0.8893988  0.8986614  0.89811154 0.90826236 0.91782099 0.93076323\n",
      " 0.93228585 0.93241273 0.93156684 0.94810417 0.95241827 0.94700453\n",
      " 0.95322189 0.95394089 0.96624867 0.97656864 0.95360253 0.9609618\n",
      " 0.98084047 0.98413947 0.99653191 1.         0.98549287 0.9711549\n",
      " 0.9636264  0.92327547 0.89533472 0.86516076 0.83771652 0.8134864\n",
      " 0.79199153 0.77249259 0.75421441 0.73651481]\n",
      "9 day output [[0.7189806]]\n",
      "10 day input [0.86389496 0.86533298 0.86892807 0.86241468 0.87637195 0.87303068\n",
      " 0.84668096 0.83856035 0.84503146 0.83843347 0.83881411 0.8354305\n",
      " 0.84621572 0.84668096 0.84553898 0.81940075 0.82138855 0.83788361\n",
      " 0.87248083 0.86964708 0.86233007 0.86613659 0.8619071  0.86677105\n",
      " 0.86791297 0.88994865 0.86123043 0.86364121 0.85894647 0.86372581\n",
      " 0.8421131  0.85936944 0.87531458 0.87319984 0.86689793 0.88275853\n",
      " 0.89354375 0.88478867 0.88635356 0.89840764 0.90466727 0.902045\n",
      " 0.88047457 0.87967102 0.88322378 0.89164042 0.89278241 0.87768315\n",
      " 0.85996157 0.84727309 0.84346651 0.84955699 0.84646948 0.86660184\n",
      " 0.86440255 0.85285599 0.85285599 0.85662023 0.86973168 0.85611271\n",
      " 0.8688858  0.86998544 0.87303068 0.87100055 0.87671032 0.8893988\n",
      " 0.8986614  0.89811154 0.90826236 0.91782099 0.93076323 0.93228585\n",
      " 0.93241273 0.93156684 0.94810417 0.95241827 0.94700453 0.95322189\n",
      " 0.95394089 0.96624867 0.97656864 0.95360253 0.9609618  0.98084047\n",
      " 0.98413947 0.99653191 1.         0.98549287 0.9711549  0.9636264\n",
      " 0.92327547 0.89533472 0.86516076 0.83771652 0.8134864  0.79199153\n",
      " 0.77249259 0.75421441 0.73651481 0.71898061]\n"
     ]
    },
    {
     "name": "stdout",
     "output_type": "stream",
     "text": [
      "10 day output [[0.70144516]]\n",
      "11 day input [0.86533298 0.86892807 0.86241468 0.87637195 0.87303068 0.84668096\n",
      " 0.83856035 0.84503146 0.83843347 0.83881411 0.8354305  0.84621572\n",
      " 0.84668096 0.84553898 0.81940075 0.82138855 0.83788361 0.87248083\n",
      " 0.86964708 0.86233007 0.86613659 0.8619071  0.86677105 0.86791297\n",
      " 0.88994865 0.86123043 0.86364121 0.85894647 0.86372581 0.8421131\n",
      " 0.85936944 0.87531458 0.87319984 0.86689793 0.88275853 0.89354375\n",
      " 0.88478867 0.88635356 0.89840764 0.90466727 0.902045   0.88047457\n",
      " 0.87967102 0.88322378 0.89164042 0.89278241 0.87768315 0.85996157\n",
      " 0.84727309 0.84346651 0.84955699 0.84646948 0.86660184 0.86440255\n",
      " 0.85285599 0.85285599 0.85662023 0.86973168 0.85611271 0.8688858\n",
      " 0.86998544 0.87303068 0.87100055 0.87671032 0.8893988  0.8986614\n",
      " 0.89811154 0.90826236 0.91782099 0.93076323 0.93228585 0.93241273\n",
      " 0.93156684 0.94810417 0.95241827 0.94700453 0.95322189 0.95394089\n",
      " 0.96624867 0.97656864 0.95360253 0.9609618  0.98084047 0.98413947\n",
      " 0.99653191 1.         0.98549287 0.9711549  0.9636264  0.92327547\n",
      " 0.89533472 0.86516076 0.83771652 0.8134864  0.79199153 0.77249259\n",
      " 0.75421441 0.73651481 0.71898061 0.70144516]\n",
      "11 day output [[0.68394846]]\n",
      "12 day input [0.86892807 0.86241468 0.87637195 0.87303068 0.84668096 0.83856035\n",
      " 0.84503146 0.83843347 0.83881411 0.8354305  0.84621572 0.84668096\n",
      " 0.84553898 0.81940075 0.82138855 0.83788361 0.87248083 0.86964708\n",
      " 0.86233007 0.86613659 0.8619071  0.86677105 0.86791297 0.88994865\n",
      " 0.86123043 0.86364121 0.85894647 0.86372581 0.8421131  0.85936944\n",
      " 0.87531458 0.87319984 0.86689793 0.88275853 0.89354375 0.88478867\n",
      " 0.88635356 0.89840764 0.90466727 0.902045   0.88047457 0.87967102\n",
      " 0.88322378 0.89164042 0.89278241 0.87768315 0.85996157 0.84727309\n",
      " 0.84346651 0.84955699 0.84646948 0.86660184 0.86440255 0.85285599\n",
      " 0.85285599 0.85662023 0.86973168 0.85611271 0.8688858  0.86998544\n",
      " 0.87303068 0.87100055 0.87671032 0.8893988  0.8986614  0.89811154\n",
      " 0.90826236 0.91782099 0.93076323 0.93228585 0.93241273 0.93156684\n",
      " 0.94810417 0.95241827 0.94700453 0.95322189 0.95394089 0.96624867\n",
      " 0.97656864 0.95360253 0.9609618  0.98084047 0.98413947 0.99653191\n",
      " 1.         0.98549287 0.9711549  0.9636264  0.92327547 0.89533472\n",
      " 0.86516076 0.83771652 0.8134864  0.79199153 0.77249259 0.75421441\n",
      " 0.73651481 0.71898061 0.70144516 0.68394846]\n",
      "12 day output [[0.6666688]]\n",
      "13 day input [0.86241468 0.87637195 0.87303068 0.84668096 0.83856035 0.84503146\n",
      " 0.83843347 0.83881411 0.8354305  0.84621572 0.84668096 0.84553898\n",
      " 0.81940075 0.82138855 0.83788361 0.87248083 0.86964708 0.86233007\n",
      " 0.86613659 0.8619071  0.86677105 0.86791297 0.88994865 0.86123043\n",
      " 0.86364121 0.85894647 0.86372581 0.8421131  0.85936944 0.87531458\n",
      " 0.87319984 0.86689793 0.88275853 0.89354375 0.88478867 0.88635356\n",
      " 0.89840764 0.90466727 0.902045   0.88047457 0.87967102 0.88322378\n",
      " 0.89164042 0.89278241 0.87768315 0.85996157 0.84727309 0.84346651\n",
      " 0.84955699 0.84646948 0.86660184 0.86440255 0.85285599 0.85285599\n",
      " 0.85662023 0.86973168 0.85611271 0.8688858  0.86998544 0.87303068\n",
      " 0.87100055 0.87671032 0.8893988  0.8986614  0.89811154 0.90826236\n",
      " 0.91782099 0.93076323 0.93228585 0.93241273 0.93156684 0.94810417\n",
      " 0.95241827 0.94700453 0.95322189 0.95394089 0.96624867 0.97656864\n",
      " 0.95360253 0.9609618  0.98084047 0.98413947 0.99653191 1.\n",
      " 0.98549287 0.9711549  0.9636264  0.92327547 0.89533472 0.86516076\n",
      " 0.83771652 0.8134864  0.79199153 0.77249259 0.75421441 0.73651481\n",
      " 0.71898061 0.70144516 0.68394846 0.66666877]\n",
      "13 day output [[0.64984804]]\n",
      "14 day input [0.87637195 0.87303068 0.84668096 0.83856035 0.84503146 0.83843347\n",
      " 0.83881411 0.8354305  0.84621572 0.84668096 0.84553898 0.81940075\n",
      " 0.82138855 0.83788361 0.87248083 0.86964708 0.86233007 0.86613659\n",
      " 0.8619071  0.86677105 0.86791297 0.88994865 0.86123043 0.86364121\n",
      " 0.85894647 0.86372581 0.8421131  0.85936944 0.87531458 0.87319984\n",
      " 0.86689793 0.88275853 0.89354375 0.88478867 0.88635356 0.89840764\n",
      " 0.90466727 0.902045   0.88047457 0.87967102 0.88322378 0.89164042\n",
      " 0.89278241 0.87768315 0.85996157 0.84727309 0.84346651 0.84955699\n",
      " 0.84646948 0.86660184 0.86440255 0.85285599 0.85285599 0.85662023\n",
      " 0.86973168 0.85611271 0.8688858  0.86998544 0.87303068 0.87100055\n",
      " 0.87671032 0.8893988  0.8986614  0.89811154 0.90826236 0.91782099\n",
      " 0.93076323 0.93228585 0.93241273 0.93156684 0.94810417 0.95241827\n",
      " 0.94700453 0.95322189 0.95394089 0.96624867 0.97656864 0.95360253\n",
      " 0.9609618  0.98084047 0.98413947 0.99653191 1.         0.98549287\n",
      " 0.9711549  0.9636264  0.92327547 0.89533472 0.86516076 0.83771652\n",
      " 0.8134864  0.79199153 0.77249259 0.75421441 0.73651481 0.71898061\n",
      " 0.70144516 0.68394846 0.66666877 0.64984804]\n",
      "14 day output [[0.6337262]]\n",
      "15 day input [0.87303068 0.84668096 0.83856035 0.84503146 0.83843347 0.83881411\n",
      " 0.8354305  0.84621572 0.84668096 0.84553898 0.81940075 0.82138855\n",
      " 0.83788361 0.87248083 0.86964708 0.86233007 0.86613659 0.8619071\n",
      " 0.86677105 0.86791297 0.88994865 0.86123043 0.86364121 0.85894647\n",
      " 0.86372581 0.8421131  0.85936944 0.87531458 0.87319984 0.86689793\n",
      " 0.88275853 0.89354375 0.88478867 0.88635356 0.89840764 0.90466727\n",
      " 0.902045   0.88047457 0.87967102 0.88322378 0.89164042 0.89278241\n",
      " 0.87768315 0.85996157 0.84727309 0.84346651 0.84955699 0.84646948\n",
      " 0.86660184 0.86440255 0.85285599 0.85285599 0.85662023 0.86973168\n",
      " 0.85611271 0.8688858  0.86998544 0.87303068 0.87100055 0.87671032\n",
      " 0.8893988  0.8986614  0.89811154 0.90826236 0.91782099 0.93076323\n",
      " 0.93228585 0.93241273 0.93156684 0.94810417 0.95241827 0.94700453\n",
      " 0.95322189 0.95394089 0.96624867 0.97656864 0.95360253 0.9609618\n",
      " 0.98084047 0.98413947 0.99653191 1.         0.98549287 0.9711549\n",
      " 0.9636264  0.92327547 0.89533472 0.86516076 0.83771652 0.8134864\n",
      " 0.79199153 0.77249259 0.75421441 0.73651481 0.71898061 0.70144516\n",
      " 0.68394846 0.66666877 0.64984804 0.63372618]\n",
      "15 day output [[0.6184969]]\n",
      "16 day input [0.84668096 0.83856035 0.84503146 0.83843347 0.83881411 0.8354305\n",
      " 0.84621572 0.84668096 0.84553898 0.81940075 0.82138855 0.83788361\n",
      " 0.87248083 0.86964708 0.86233007 0.86613659 0.8619071  0.86677105\n",
      " 0.86791297 0.88994865 0.86123043 0.86364121 0.85894647 0.86372581\n",
      " 0.8421131  0.85936944 0.87531458 0.87319984 0.86689793 0.88275853\n",
      " 0.89354375 0.88478867 0.88635356 0.89840764 0.90466727 0.902045\n",
      " 0.88047457 0.87967102 0.88322378 0.89164042 0.89278241 0.87768315\n",
      " 0.85996157 0.84727309 0.84346651 0.84955699 0.84646948 0.86660184\n",
      " 0.86440255 0.85285599 0.85285599 0.85662023 0.86973168 0.85611271\n",
      " 0.8688858  0.86998544 0.87303068 0.87100055 0.87671032 0.8893988\n",
      " 0.8986614  0.89811154 0.90826236 0.91782099 0.93076323 0.93228585\n",
      " 0.93241273 0.93156684 0.94810417 0.95241827 0.94700453 0.95322189\n",
      " 0.95394089 0.96624867 0.97656864 0.95360253 0.9609618  0.98084047\n",
      " 0.98413947 0.99653191 1.         0.98549287 0.9711549  0.9636264\n",
      " 0.92327547 0.89533472 0.86516076 0.83771652 0.8134864  0.79199153\n",
      " 0.77249259 0.75421441 0.73651481 0.71898061 0.70144516 0.68394846\n",
      " 0.66666877 0.64984804 0.63372618 0.61849689]\n",
      "16 day output [[0.60428536]]\n",
      "17 day input [0.83856035 0.84503146 0.83843347 0.83881411 0.8354305  0.84621572\n",
      " 0.84668096 0.84553898 0.81940075 0.82138855 0.83788361 0.87248083\n",
      " 0.86964708 0.86233007 0.86613659 0.8619071  0.86677105 0.86791297\n",
      " 0.88994865 0.86123043 0.86364121 0.85894647 0.86372581 0.8421131\n",
      " 0.85936944 0.87531458 0.87319984 0.86689793 0.88275853 0.89354375\n",
      " 0.88478867 0.88635356 0.89840764 0.90466727 0.902045   0.88047457\n",
      " 0.87967102 0.88322378 0.89164042 0.89278241 0.87768315 0.85996157\n",
      " 0.84727309 0.84346651 0.84955699 0.84646948 0.86660184 0.86440255\n",
      " 0.85285599 0.85285599 0.85662023 0.86973168 0.85611271 0.8688858\n",
      " 0.86998544 0.87303068 0.87100055 0.87671032 0.8893988  0.8986614\n",
      " 0.89811154 0.90826236 0.91782099 0.93076323 0.93228585 0.93241273\n",
      " 0.93156684 0.94810417 0.95241827 0.94700453 0.95322189 0.95394089\n",
      " 0.96624867 0.97656864 0.95360253 0.9609618  0.98084047 0.98413947\n",
      " 0.99653191 1.         0.98549287 0.9711549  0.9636264  0.92327547\n",
      " 0.89533472 0.86516076 0.83771652 0.8134864  0.79199153 0.77249259\n",
      " 0.75421441 0.73651481 0.71898061 0.70144516 0.68394846 0.66666877\n",
      " 0.64984804 0.63372618 0.61849689 0.60428536]\n",
      "17 day output [[0.5911444]]\n",
      "18 day input [0.84503146 0.83843347 0.83881411 0.8354305  0.84621572 0.84668096\n",
      " 0.84553898 0.81940075 0.82138855 0.83788361 0.87248083 0.86964708\n",
      " 0.86233007 0.86613659 0.8619071  0.86677105 0.86791297 0.88994865\n",
      " 0.86123043 0.86364121 0.85894647 0.86372581 0.8421131  0.85936944\n",
      " 0.87531458 0.87319984 0.86689793 0.88275853 0.89354375 0.88478867\n",
      " 0.88635356 0.89840764 0.90466727 0.902045   0.88047457 0.87967102\n",
      " 0.88322378 0.89164042 0.89278241 0.87768315 0.85996157 0.84727309\n",
      " 0.84346651 0.84955699 0.84646948 0.86660184 0.86440255 0.85285599\n",
      " 0.85285599 0.85662023 0.86973168 0.85611271 0.8688858  0.86998544\n",
      " 0.87303068 0.87100055 0.87671032 0.8893988  0.8986614  0.89811154\n",
      " 0.90826236 0.91782099 0.93076323 0.93228585 0.93241273 0.93156684\n",
      " 0.94810417 0.95241827 0.94700453 0.95322189 0.95394089 0.96624867\n",
      " 0.97656864 0.95360253 0.9609618  0.98084047 0.98413947 0.99653191\n",
      " 1.         0.98549287 0.9711549  0.9636264  0.92327547 0.89533472\n",
      " 0.86516076 0.83771652 0.8134864  0.79199153 0.77249259 0.75421441\n",
      " 0.73651481 0.71898061 0.70144516 0.68394846 0.66666877 0.64984804\n",
      " 0.63372618 0.61849689 0.60428536 0.59114438]\n",
      "18 day output [[0.5790652]]\n",
      "19 day input [0.83843347 0.83881411 0.8354305  0.84621572 0.84668096 0.84553898\n",
      " 0.81940075 0.82138855 0.83788361 0.87248083 0.86964708 0.86233007\n",
      " 0.86613659 0.8619071  0.86677105 0.86791297 0.88994865 0.86123043\n",
      " 0.86364121 0.85894647 0.86372581 0.8421131  0.85936944 0.87531458\n",
      " 0.87319984 0.86689793 0.88275853 0.89354375 0.88478867 0.88635356\n",
      " 0.89840764 0.90466727 0.902045   0.88047457 0.87967102 0.88322378\n",
      " 0.89164042 0.89278241 0.87768315 0.85996157 0.84727309 0.84346651\n",
      " 0.84955699 0.84646948 0.86660184 0.86440255 0.85285599 0.85285599\n",
      " 0.85662023 0.86973168 0.85611271 0.8688858  0.86998544 0.87303068\n",
      " 0.87100055 0.87671032 0.8893988  0.8986614  0.89811154 0.90826236\n",
      " 0.91782099 0.93076323 0.93228585 0.93241273 0.93156684 0.94810417\n",
      " 0.95241827 0.94700453 0.95322189 0.95394089 0.96624867 0.97656864\n",
      " 0.95360253 0.9609618  0.98084047 0.98413947 0.99653191 1.\n",
      " 0.98549287 0.9711549  0.9636264  0.92327547 0.89533472 0.86516076\n",
      " 0.83771652 0.8134864  0.79199153 0.77249259 0.75421441 0.73651481\n",
      " 0.71898061 0.70144516 0.68394846 0.66666877 0.64984804 0.63372618\n",
      " 0.61849689 0.60428536 0.59114438 0.5790652 ]\n"
     ]
    },
    {
     "name": "stdout",
     "output_type": "stream",
     "text": [
      "19 day output [[0.5679942]]\n",
      "20 day input [0.83881411 0.8354305  0.84621572 0.84668096 0.84553898 0.81940075\n",
      " 0.82138855 0.83788361 0.87248083 0.86964708 0.86233007 0.86613659\n",
      " 0.8619071  0.86677105 0.86791297 0.88994865 0.86123043 0.86364121\n",
      " 0.85894647 0.86372581 0.8421131  0.85936944 0.87531458 0.87319984\n",
      " 0.86689793 0.88275853 0.89354375 0.88478867 0.88635356 0.89840764\n",
      " 0.90466727 0.902045   0.88047457 0.87967102 0.88322378 0.89164042\n",
      " 0.89278241 0.87768315 0.85996157 0.84727309 0.84346651 0.84955699\n",
      " 0.84646948 0.86660184 0.86440255 0.85285599 0.85285599 0.85662023\n",
      " 0.86973168 0.85611271 0.8688858  0.86998544 0.87303068 0.87100055\n",
      " 0.87671032 0.8893988  0.8986614  0.89811154 0.90826236 0.91782099\n",
      " 0.93076323 0.93228585 0.93241273 0.93156684 0.94810417 0.95241827\n",
      " 0.94700453 0.95322189 0.95394089 0.96624867 0.97656864 0.95360253\n",
      " 0.9609618  0.98084047 0.98413947 0.99653191 1.         0.98549287\n",
      " 0.9711549  0.9636264  0.92327547 0.89533472 0.86516076 0.83771652\n",
      " 0.8134864  0.79199153 0.77249259 0.75421441 0.73651481 0.71898061\n",
      " 0.70144516 0.68394846 0.66666877 0.64984804 0.63372618 0.61849689\n",
      " 0.60428536 0.59114438 0.5790652  0.56799418]\n",
      "20 day output [[0.5578508]]\n",
      "21 day input [0.8354305  0.84621572 0.84668096 0.84553898 0.81940075 0.82138855\n",
      " 0.83788361 0.87248083 0.86964708 0.86233007 0.86613659 0.8619071\n",
      " 0.86677105 0.86791297 0.88994865 0.86123043 0.86364121 0.85894647\n",
      " 0.86372581 0.8421131  0.85936944 0.87531458 0.87319984 0.86689793\n",
      " 0.88275853 0.89354375 0.88478867 0.88635356 0.89840764 0.90466727\n",
      " 0.902045   0.88047457 0.87967102 0.88322378 0.89164042 0.89278241\n",
      " 0.87768315 0.85996157 0.84727309 0.84346651 0.84955699 0.84646948\n",
      " 0.86660184 0.86440255 0.85285599 0.85285599 0.85662023 0.86973168\n",
      " 0.85611271 0.8688858  0.86998544 0.87303068 0.87100055 0.87671032\n",
      " 0.8893988  0.8986614  0.89811154 0.90826236 0.91782099 0.93076323\n",
      " 0.93228585 0.93241273 0.93156684 0.94810417 0.95241827 0.94700453\n",
      " 0.95322189 0.95394089 0.96624867 0.97656864 0.95360253 0.9609618\n",
      " 0.98084047 0.98413947 0.99653191 1.         0.98549287 0.9711549\n",
      " 0.9636264  0.92327547 0.89533472 0.86516076 0.83771652 0.8134864\n",
      " 0.79199153 0.77249259 0.75421441 0.73651481 0.71898061 0.70144516\n",
      " 0.68394846 0.66666877 0.64984804 0.63372618 0.61849689 0.60428536\n",
      " 0.59114438 0.5790652  0.56799418 0.55785078]\n",
      "21 day output [[0.5485435]]\n",
      "22 day input [0.84621572 0.84668096 0.84553898 0.81940075 0.82138855 0.83788361\n",
      " 0.87248083 0.86964708 0.86233007 0.86613659 0.8619071  0.86677105\n",
      " 0.86791297 0.88994865 0.86123043 0.86364121 0.85894647 0.86372581\n",
      " 0.8421131  0.85936944 0.87531458 0.87319984 0.86689793 0.88275853\n",
      " 0.89354375 0.88478867 0.88635356 0.89840764 0.90466727 0.902045\n",
      " 0.88047457 0.87967102 0.88322378 0.89164042 0.89278241 0.87768315\n",
      " 0.85996157 0.84727309 0.84346651 0.84955699 0.84646948 0.86660184\n",
      " 0.86440255 0.85285599 0.85285599 0.85662023 0.86973168 0.85611271\n",
      " 0.8688858  0.86998544 0.87303068 0.87100055 0.87671032 0.8893988\n",
      " 0.8986614  0.89811154 0.90826236 0.91782099 0.93076323 0.93228585\n",
      " 0.93241273 0.93156684 0.94810417 0.95241827 0.94700453 0.95322189\n",
      " 0.95394089 0.96624867 0.97656864 0.95360253 0.9609618  0.98084047\n",
      " 0.98413947 0.99653191 1.         0.98549287 0.9711549  0.9636264\n",
      " 0.92327547 0.89533472 0.86516076 0.83771652 0.8134864  0.79199153\n",
      " 0.77249259 0.75421441 0.73651481 0.71898061 0.70144516 0.68394846\n",
      " 0.66666877 0.64984804 0.63372618 0.61849689 0.60428536 0.59114438\n",
      " 0.5790652  0.56799418 0.55785078 0.54854351]\n",
      "22 day output [[0.53998226]]\n",
      "23 day input [0.84668096 0.84553898 0.81940075 0.82138855 0.83788361 0.87248083\n",
      " 0.86964708 0.86233007 0.86613659 0.8619071  0.86677105 0.86791297\n",
      " 0.88994865 0.86123043 0.86364121 0.85894647 0.86372581 0.8421131\n",
      " 0.85936944 0.87531458 0.87319984 0.86689793 0.88275853 0.89354375\n",
      " 0.88478867 0.88635356 0.89840764 0.90466727 0.902045   0.88047457\n",
      " 0.87967102 0.88322378 0.89164042 0.89278241 0.87768315 0.85996157\n",
      " 0.84727309 0.84346651 0.84955699 0.84646948 0.86660184 0.86440255\n",
      " 0.85285599 0.85285599 0.85662023 0.86973168 0.85611271 0.8688858\n",
      " 0.86998544 0.87303068 0.87100055 0.87671032 0.8893988  0.8986614\n",
      " 0.89811154 0.90826236 0.91782099 0.93076323 0.93228585 0.93241273\n",
      " 0.93156684 0.94810417 0.95241827 0.94700453 0.95322189 0.95394089\n",
      " 0.96624867 0.97656864 0.95360253 0.9609618  0.98084047 0.98413947\n",
      " 0.99653191 1.         0.98549287 0.9711549  0.9636264  0.92327547\n",
      " 0.89533472 0.86516076 0.83771652 0.8134864  0.79199153 0.77249259\n",
      " 0.75421441 0.73651481 0.71898061 0.70144516 0.68394846 0.66666877\n",
      " 0.64984804 0.63372618 0.61849689 0.60428536 0.59114438 0.5790652\n",
      " 0.56799418 0.55785078 0.54854351 0.53998226]\n",
      "23 day output [[0.53208536]]\n",
      "24 day input [0.84553898 0.81940075 0.82138855 0.83788361 0.87248083 0.86964708\n",
      " 0.86233007 0.86613659 0.8619071  0.86677105 0.86791297 0.88994865\n",
      " 0.86123043 0.86364121 0.85894647 0.86372581 0.8421131  0.85936944\n",
      " 0.87531458 0.87319984 0.86689793 0.88275853 0.89354375 0.88478867\n",
      " 0.88635356 0.89840764 0.90466727 0.902045   0.88047457 0.87967102\n",
      " 0.88322378 0.89164042 0.89278241 0.87768315 0.85996157 0.84727309\n",
      " 0.84346651 0.84955699 0.84646948 0.86660184 0.86440255 0.85285599\n",
      " 0.85285599 0.85662023 0.86973168 0.85611271 0.8688858  0.86998544\n",
      " 0.87303068 0.87100055 0.87671032 0.8893988  0.8986614  0.89811154\n",
      " 0.90826236 0.91782099 0.93076323 0.93228585 0.93241273 0.93156684\n",
      " 0.94810417 0.95241827 0.94700453 0.95322189 0.95394089 0.96624867\n",
      " 0.97656864 0.95360253 0.9609618  0.98084047 0.98413947 0.99653191\n",
      " 1.         0.98549287 0.9711549  0.9636264  0.92327547 0.89533472\n",
      " 0.86516076 0.83771652 0.8134864  0.79199153 0.77249259 0.75421441\n",
      " 0.73651481 0.71898061 0.70144516 0.68394846 0.66666877 0.64984804\n",
      " 0.63372618 0.61849689 0.60428536 0.59114438 0.5790652  0.56799418\n",
      " 0.55785078 0.54854351 0.53998226 0.53208536]\n",
      "24 day output [[0.5247827]]\n",
      "25 day input [0.81940075 0.82138855 0.83788361 0.87248083 0.86964708 0.86233007\n",
      " 0.86613659 0.8619071  0.86677105 0.86791297 0.88994865 0.86123043\n",
      " 0.86364121 0.85894647 0.86372581 0.8421131  0.85936944 0.87531458\n",
      " 0.87319984 0.86689793 0.88275853 0.89354375 0.88478867 0.88635356\n",
      " 0.89840764 0.90466727 0.902045   0.88047457 0.87967102 0.88322378\n",
      " 0.89164042 0.89278241 0.87768315 0.85996157 0.84727309 0.84346651\n",
      " 0.84955699 0.84646948 0.86660184 0.86440255 0.85285599 0.85285599\n",
      " 0.85662023 0.86973168 0.85611271 0.8688858  0.86998544 0.87303068\n",
      " 0.87100055 0.87671032 0.8893988  0.8986614  0.89811154 0.90826236\n",
      " 0.91782099 0.93076323 0.93228585 0.93241273 0.93156684 0.94810417\n",
      " 0.95241827 0.94700453 0.95322189 0.95394089 0.96624867 0.97656864\n",
      " 0.95360253 0.9609618  0.98084047 0.98413947 0.99653191 1.\n",
      " 0.98549287 0.9711549  0.9636264  0.92327547 0.89533472 0.86516076\n",
      " 0.83771652 0.8134864  0.79199153 0.77249259 0.75421441 0.73651481\n",
      " 0.71898061 0.70144516 0.68394846 0.66666877 0.64984804 0.63372618\n",
      " 0.61849689 0.60428536 0.59114438 0.5790652  0.56799418 0.55785078\n",
      " 0.54854351 0.53998226 0.53208536 0.52478272]\n",
      "25 day output [[0.5180161]]\n",
      "26 day input [0.82138855 0.83788361 0.87248083 0.86964708 0.86233007 0.86613659\n",
      " 0.8619071  0.86677105 0.86791297 0.88994865 0.86123043 0.86364121\n",
      " 0.85894647 0.86372581 0.8421131  0.85936944 0.87531458 0.87319984\n",
      " 0.86689793 0.88275853 0.89354375 0.88478867 0.88635356 0.89840764\n",
      " 0.90466727 0.902045   0.88047457 0.87967102 0.88322378 0.89164042\n",
      " 0.89278241 0.87768315 0.85996157 0.84727309 0.84346651 0.84955699\n",
      " 0.84646948 0.86660184 0.86440255 0.85285599 0.85285599 0.85662023\n",
      " 0.86973168 0.85611271 0.8688858  0.86998544 0.87303068 0.87100055\n",
      " 0.87671032 0.8893988  0.8986614  0.89811154 0.90826236 0.91782099\n",
      " 0.93076323 0.93228585 0.93241273 0.93156684 0.94810417 0.95241827\n",
      " 0.94700453 0.95322189 0.95394089 0.96624867 0.97656864 0.95360253\n",
      " 0.9609618  0.98084047 0.98413947 0.99653191 1.         0.98549287\n",
      " 0.9711549  0.9636264  0.92327547 0.89533472 0.86516076 0.83771652\n",
      " 0.8134864  0.79199153 0.77249259 0.75421441 0.73651481 0.71898061\n",
      " 0.70144516 0.68394846 0.66666877 0.64984804 0.63372618 0.61849689\n",
      " 0.60428536 0.59114438 0.5790652  0.56799418 0.55785078 0.54854351\n",
      " 0.53998226 0.53208536 0.52478272 0.5180161 ]\n",
      "26 day output [[0.51173854]]\n",
      "27 day input [0.83788361 0.87248083 0.86964708 0.86233007 0.86613659 0.8619071\n",
      " 0.86677105 0.86791297 0.88994865 0.86123043 0.86364121 0.85894647\n",
      " 0.86372581 0.8421131  0.85936944 0.87531458 0.87319984 0.86689793\n",
      " 0.88275853 0.89354375 0.88478867 0.88635356 0.89840764 0.90466727\n",
      " 0.902045   0.88047457 0.87967102 0.88322378 0.89164042 0.89278241\n",
      " 0.87768315 0.85996157 0.84727309 0.84346651 0.84955699 0.84646948\n",
      " 0.86660184 0.86440255 0.85285599 0.85285599 0.85662023 0.86973168\n",
      " 0.85611271 0.8688858  0.86998544 0.87303068 0.87100055 0.87671032\n",
      " 0.8893988  0.8986614  0.89811154 0.90826236 0.91782099 0.93076323\n",
      " 0.93228585 0.93241273 0.93156684 0.94810417 0.95241827 0.94700453\n",
      " 0.95322189 0.95394089 0.96624867 0.97656864 0.95360253 0.9609618\n",
      " 0.98084047 0.98413947 0.99653191 1.         0.98549287 0.9711549\n",
      " 0.9636264  0.92327547 0.89533472 0.86516076 0.83771652 0.8134864\n",
      " 0.79199153 0.77249259 0.75421441 0.73651481 0.71898061 0.70144516\n",
      " 0.68394846 0.66666877 0.64984804 0.63372618 0.61849689 0.60428536\n",
      " 0.59114438 0.5790652  0.56799418 0.55785078 0.54854351 0.53998226\n",
      " 0.53208536 0.52478272 0.5180161  0.51173854]\n",
      "27 day output [[0.5059104]]\n",
      "28 day input [0.87248083 0.86964708 0.86233007 0.86613659 0.8619071  0.86677105\n",
      " 0.86791297 0.88994865 0.86123043 0.86364121 0.85894647 0.86372581\n",
      " 0.8421131  0.85936944 0.87531458 0.87319984 0.86689793 0.88275853\n",
      " 0.89354375 0.88478867 0.88635356 0.89840764 0.90466727 0.902045\n",
      " 0.88047457 0.87967102 0.88322378 0.89164042 0.89278241 0.87768315\n",
      " 0.85996157 0.84727309 0.84346651 0.84955699 0.84646948 0.86660184\n",
      " 0.86440255 0.85285599 0.85285599 0.85662023 0.86973168 0.85611271\n",
      " 0.8688858  0.86998544 0.87303068 0.87100055 0.87671032 0.8893988\n",
      " 0.8986614  0.89811154 0.90826236 0.91782099 0.93076323 0.93228585\n",
      " 0.93241273 0.93156684 0.94810417 0.95241827 0.94700453 0.95322189\n",
      " 0.95394089 0.96624867 0.97656864 0.95360253 0.9609618  0.98084047\n",
      " 0.98413947 0.99653191 1.         0.98549287 0.9711549  0.9636264\n",
      " 0.92327547 0.89533472 0.86516076 0.83771652 0.8134864  0.79199153\n",
      " 0.77249259 0.75421441 0.73651481 0.71898061 0.70144516 0.68394846\n",
      " 0.66666877 0.64984804 0.63372618 0.61849689 0.60428536 0.59114438\n",
      " 0.5790652  0.56799418 0.55785078 0.54854351 0.53998226 0.53208536\n",
      " 0.52478272 0.5180161  0.51173854 0.5059104 ]\n",
      "28 day output [[0.5004976]]\n",
      "29 day input [0.86964708 0.86233007 0.86613659 0.8619071  0.86677105 0.86791297\n",
      " 0.88994865 0.86123043 0.86364121 0.85894647 0.86372581 0.8421131\n",
      " 0.85936944 0.87531458 0.87319984 0.86689793 0.88275853 0.89354375\n",
      " 0.88478867 0.88635356 0.89840764 0.90466727 0.902045   0.88047457\n",
      " 0.87967102 0.88322378 0.89164042 0.89278241 0.87768315 0.85996157\n",
      " 0.84727309 0.84346651 0.84955699 0.84646948 0.86660184 0.86440255\n",
      " 0.85285599 0.85285599 0.85662023 0.86973168 0.85611271 0.8688858\n",
      " 0.86998544 0.87303068 0.87100055 0.87671032 0.8893988  0.8986614\n",
      " 0.89811154 0.90826236 0.91782099 0.93076323 0.93228585 0.93241273\n",
      " 0.93156684 0.94810417 0.95241827 0.94700453 0.95322189 0.95394089\n",
      " 0.96624867 0.97656864 0.95360253 0.9609618  0.98084047 0.98413947\n",
      " 0.99653191 1.         0.98549287 0.9711549  0.9636264  0.92327547\n",
      " 0.89533472 0.86516076 0.83771652 0.8134864  0.79199153 0.77249259\n",
      " 0.75421441 0.73651481 0.71898061 0.70144516 0.68394846 0.66666877\n",
      " 0.64984804 0.63372618 0.61849689 0.60428536 0.59114438 0.5790652\n",
      " 0.56799418 0.55785078 0.54854351 0.53998226 0.53208536 0.52478272\n",
      " 0.5180161  0.51173854 0.5059104  0.50049758]\n"
     ]
    },
    {
     "name": "stdout",
     "output_type": "stream",
     "text": [
      "29 day output [[0.4954688]]\n",
      "[[0.9232754707336426], [0.8953347206115723], [0.8651607632637024], [0.8377165198326111], [0.8134863972663879], [0.7919915318489075], [0.7724925875663757], [0.7542144060134888], [0.7365148067474365], [0.718980610370636], [0.7014451622962952], [0.6839484572410583], [0.6666687726974487], [0.6498480439186096], [0.633726179599762], [0.6184968948364258], [0.6042853593826294], [0.5911443829536438], [0.579065203666687], [0.5679941773414612], [0.5578507781028748], [0.5485435128211975], [0.539982259273529], [0.5320853590965271], [0.5247827172279358], [0.5180160999298096], [0.5117385387420654], [0.5059103965759277], [0.500497579574585], [0.49546879529953003]]\n"
     ]
    }
   ],
   "source": [
    "# demonstrate prediction for next days\n",
    "from numpy import array\n",
    "\n",
    "lst_output=[]\n",
    "n_steps=100\n",
    "i=0\n",
    "while(i<30):\n",
    "    \n",
    "    if(len(temp_input)>100):\n",
    "        #print(temp_input)\n",
    "        x_input=np.array(temp_input[1:])\n",
    "        print(\"{} day input {}\".format(i,x_input))\n",
    "        x_input=x_input.reshape(1,-1)\n",
    "        x_input = x_input.reshape((1, n_steps, 1))\n",
    "        #print(x_input)\n",
    "        yhat = model.predict(x_input, verbose=0)\n",
    "        print(\"{} day output {}\".format(i,yhat))\n",
    "        temp_input.extend(yhat[0].tolist())\n",
    "        temp_input=temp_input[1:]\n",
    "        #print(temp_input)\n",
    "        lst_output.extend(yhat.tolist())\n",
    "        i=i+1\n",
    "    else:\n",
    "        x_input = x_input.reshape((1, n_steps,1))\n",
    "        yhat = model.predict(x_input, verbose=0)\n",
    "        print(yhat[0])\n",
    "        temp_input.extend(yhat[0].tolist())\n",
    "        print(len(temp_input))\n",
    "        lst_output.extend(yhat.tolist())\n",
    "        i=i+1\n",
    "    \n",
    "\n",
    "print(lst_output)"
   ]
  },
  {
   "cell_type": "code",
   "execution_count": 48,
   "id": "0766668b",
   "metadata": {},
   "outputs": [],
   "source": [
    "day_new=np.arange(1,101)\n",
    "day_pred=np.arange(101,131)"
   ]
  },
  {
   "cell_type": "code",
   "execution_count": 49,
   "id": "c98c5de0",
   "metadata": {},
   "outputs": [],
   "source": [
    "import matplotlib.pyplot as plt"
   ]
  },
  {
   "cell_type": "code",
   "execution_count": 52,
   "id": "de6bf71f",
   "metadata": {},
   "outputs": [
    {
     "data": {
      "text/plain": [
       "[<matplotlib.lines.Line2D at 0x28e1fc590>]"
      ]
     },
     "execution_count": 52,
     "metadata": {},
     "output_type": "execute_result"
    },
    {
     "data": {
      "image/png": "[encoded data removed]",
      "text/plain": [
       "<Figure size 640x480 with 1 Axes>"
      ]
     },
     "metadata": {},
     "output_type": "display_data"
    }
   ],
   "source": [
    "plt.plot(day_new,scaler.inverse_transform(df1[2416:]))\n",
    "plt.plot(day_pred,scaler.inverse_transform(lst_output))"
   ]
  },
  {
   "cell_type": "code",
   "execution_count": 51,
   "id": "7530d435",
   "metadata": {},
   "outputs": [
    {
     "data": {
      "text/plain": [
       "2516"
      ]
     },
     "execution_count": 51,
     "metadata": {},
     "output_type": "execute_result"
    }
   ],
   "source": [
    "len(df1)"
   ]
  },
  {
   "cell_type": "code",
   "execution_count": null,
   "id": "6f9315fa",
   "metadata": {},
   "outputs": [],
   "source": []
  }
 ],
 "metadata": {
  "kernelspec": {
   "display_name": "Python 3 (ipykernel)",
   "language": "python",
   "name": "python3"
  },
  "language_info": {
   "codemirror_mode": {
    "name": "ipython",
    "version": 3
   },
   "file_extension": ".py",
   "mimetype": "text/x-python",
   "name": "python",
   "nbconvert_exporter": "python",
   "pygments_lexer": "ipython3",
   "version": "3.11.5"
  }
 },
 "nbformat": 4,
 "nbformat_minor": 5
}
